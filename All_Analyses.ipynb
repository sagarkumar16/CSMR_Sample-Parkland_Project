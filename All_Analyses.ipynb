{
 "cells": [
  {
   "cell_type": "code",
   "execution_count": 1,
   "metadata": {},
   "outputs": [],
   "source": [
    "import pandas as pd\n",
    "import networkx as nx\n",
    "import json \n",
    "import numpy as np\n",
    "import matplotlib.pyplot as plt\n",
    "import scipy\n",
    "import os\n",
    "from datetime import datetime\n",
    "import pickle\n",
    "import itertools\n",
    "from collections import Counter\n",
    "import netrd\n",
    "import seaborn\n",
    "import random"
   ]
  },
  {
   "cell_type": "markdown",
   "metadata": {},
   "source": [
    "## DataFrames"
   ]
  },
  {
   "cell_type": "code",
   "execution_count": 2,
   "metadata": {},
   "outputs": [],
   "source": [
    "def make_dataframe(h, # hashtag with associated folder (needs to become group of hashtags\n",
    "                   date1, # lower bound in the format 'yyyy-mm-dd'\n",
    "                   date2 # upper bound in the format 'yyyy-mm-dd'\n",
    "                  ):\n",
    "    \n",
    "    # this has to become all the tweets about a school \n",
    "\n",
    "    lower_date = pd.to_datetime(date1)\n",
    "    upper_date = pd.to_datetime(date2)\n",
    "\n",
    "    hashtag = h\n",
    "    \n",
    "    path = 'hashtags/' + hashtag\n",
    "    \n",
    "    directory = os.listdir(path)\n",
    "    \n",
    "    directory = [i for i in directory if i != 'test_json_to_csv.csv']\n",
    "    \n",
    "    all_id = []\n",
    "    all_text = []\n",
    "    all_times = []\n",
    "    all_users = []\n",
    "    all_follower = []\n",
    "    all_rt_count = []\n",
    "    all_like_count = []\n",
    "    all_hashtags = []\n",
    "\n",
    "\n",
    "    for date in directory:\n",
    "        with open(path + '/' + date, 'rb') as f:\n",
    "            for line in f: \n",
    "                a = json.loads(line)\n",
    "                if a['id'] not in all_id:\n",
    "                    all_id.append(a['id'])\n",
    "                    all_times.append(a['created_at'])\n",
    "                    all_users.append(a['user']['screen_name'])\n",
    "                    all_follower.append(a['user']['followers_count'])\n",
    "                    all_rt_count.append(a['retweet_count'])\n",
    "                    all_like_count.append(a['favorite_count'])\n",
    "                    if a['truncated'] == True:\n",
    "                        all_text.append(a['extended_tweet']['full_text'])\n",
    "                    else:\n",
    "                        all_text.append(a['text'])\n",
    "                    all_hashtags.append([i['text'].lower() for i in a['entities']['hashtags']])\n",
    "                    \n",
    "    all_datetime = [datetime.strptime(i, '%a %b %d %H:%M:%S %z %Y') for i in all_times]\n",
    "    \n",
    "    all_tweets = pd.DataFrame(data = {'id': all_id, 'text': all_text, 'created_at': all_times, \n",
    "                                  'user': all_users, 'followers': all_follower, 'retweets': all_rt_count, \n",
    "                                  'likes': all_like_count, 'datetime': all_datetime,\n",
    "                                 'hashtags': all_hashtags, \n",
    "                                 'pd_datetime': [pd.to_datetime(i) for i in all_times]})\n",
    "    all_tweets = all_tweets.sort_values('datetime')\n",
    "    all_tweets = all_tweets.reset_index(drop = True)\n",
    "    \n",
    "    window_tweets = all_tweets[(all_tweets['pd_datetime'] > lower_date) & (all_tweets['pd_datetime'] < upper_date)]\n",
    "    window_tweets = window_tweets.reset_index(drop = True)\n",
    "    \n",
    "    return window_tweets"
   ]
  },
  {
   "cell_type": "markdown",
   "metadata": {},
   "source": [
    "## Cumulative Tweet Volume"
   ]
  },
  {
   "cell_type": "code",
   "execution_count": 3,
   "metadata": {},
   "outputs": [],
   "source": [
    "# plot the hashtags given a dataframe in the shape of the one output from make_dataframe()\n",
    "def plot_tags(h, df, percent):\n",
    "    \n",
    "    jet = plt.cm.jet\n",
    "    r = random.random()\n",
    "    \n",
    "    window_tweets = df\n",
    "    \n",
    "    all_tags = list(itertools.chain.from_iterable(window_tweets.hashtags))\n",
    "    all_tags = [i for i in all_tags if (i != h)]\n",
    "    \n",
    "    tag_freq = Counter(all_tags).most_common()\n",
    "    \n",
    "    # currently getting anything more than 1% but this has to be changed\n",
    "    # going to become the hashtag clusters/communities \n",
    "\n",
    "    top_tags = [tag[0] for tag in tag_freq if tag[1] > percent * len(window_tweets)]\n",
    "    \n",
    "    tag_vol = {}\n",
    "\n",
    "    for tag in top_tags:\n",
    "        counts = []\n",
    "        times = []\n",
    "        count = 0\n",
    "        for t in range(1, len(window_tweets.hashtags)):\n",
    "            if tag in window_tweets.hashtags[t]:\n",
    "                count += 1\n",
    "                counts.append(count)\n",
    "                times.append((window_tweets.pd_datetime[t] - window_tweets.pd_datetime[0]).total_seconds()/60/60)\n",
    "        tag_vol[tag] = (counts, times)\n",
    "        \n",
    "    plt.figure(figsize = (10, 5))\n",
    "    for tag in top_tags[:10]:\n",
    "        plt.plot(tag_vol[tag][1], tag_vol[tag][0], label = tag, alpha = 0.9)\n",
    "    for tag in top_tags[10:]:\n",
    "        r = random.random()\n",
    "        plt.plot(tag_vol[tag][1], tag_vol[tag][0], label = tag, color = jet(r), alpha = 0.9)\n",
    "    plt.legend(bbox_to_anchor = (1, 0.25, 0.3, 0.7))\n",
    "    plt.title('%s Co-Occurring Hashtag Growth' % (h.capitalize())) \n",
    "    plt.xlabel('Hours Since Event')\n",
    "    plt.ylabel('Cumulative Tweets')"
   ]
  },
  {
   "cell_type": "code",
   "execution_count": 4,
   "metadata": {},
   "outputs": [],
   "source": [
    "# plot the hashtags given a dataframe in the shape of the one output from make_dataframe()\n",
    "def cum_tags(h, df, percent):\n",
    "    \n",
    "    window_tweets = df\n",
    "    \n",
    "    all_tags = list(itertools.chain.from_iterable(window_tweets.hashtags))\n",
    "    all_tags = [i for i in all_tags if (i != h)]\n",
    "    \n",
    "    tag_freq = Counter(all_tags).most_common()\n",
    "    \n",
    "    # currently getting anything more than 1% but this has to be changed\n",
    "    # going to become the hashtag clusters/communities \n",
    "\n",
    "    top_tags = [tag[0] for tag in tag_freq if tag[1] > percent * len(window_tweets)]\n",
    "    \n",
    "    tag_vol = {}\n",
    "\n",
    "    for tag in top_tags:\n",
    "        counts = []\n",
    "        times = []\n",
    "        count = 0\n",
    "        for t in range(1, len(window_tweets.hashtags)):\n",
    "            if tag in window_tweets.hashtags[t]:\n",
    "                count += 1\n",
    "                counts.append(count)\n",
    "                times.append((window_tweets.pd_datetime[t] - window_tweets.pd_datetime[0]).total_seconds()/60/60)\n",
    "            else:\n",
    "                counts.append(count)\n",
    "                times.append((window_tweets.pd_datetime[t] - window_tweets.pd_datetime[0]).total_seconds()/60/60)\n",
    "        tag_vol[tag] = (counts, times)\n",
    "        \n",
    "    return tag_vol  "
   ]
  },
  {
   "cell_type": "code",
   "execution_count": 5,
   "metadata": {},
   "outputs": [],
   "source": [
    "def create_graph(hashtag, # hashtag with associated folder (needs to become group of hashtags)\n",
    "                   date1, # lower bound in the format 'yyyy-mm-dd'\n",
    "                   date2, # upper bound in the format 'yyyy-mm-dd'\n",
    "                percent):  # Percent of total tweets necessary to be in the hashtag shown):\n",
    "                 \n",
    "    df = make_dataframe(hashtag, date1, date2)\n",
    "    plot_tags(hashtag, df, percent)"
   ]
  },
  {
   "cell_type": "code",
   "execution_count": 105,
   "metadata": {},
   "outputs": [
    {
     "data": {
      "image/png": "[encoded data removed]",
      "text/plain": [
       "<Figure size 720x360 with 1 Axes>"
      ]
     },
     "metadata": {},
     "output_type": "display_data"
    }
   ],
   "source": [
    "create_graph('parkland','2018-02-13','2018-04-13', 0.01)\n",
    "plt.savefig('correct_color_cohash.png',facecolor=fig.get_facecolor(), edgecolor='none', \n",
    "            bbox_inches = 'tight', dpi=1200)"
   ]
  },
  {
   "cell_type": "code",
   "execution_count": 534,
   "metadata": {},
   "outputs": [
    {
     "data": {
      "image/png": "[encoded data removed]",
      "text/plain": [
       "<Figure size 720x360 with 1 Axes>"
      ]
     },
     "metadata": {
      "needs_background": "light"
     },
     "output_type": "display_data"
    }
   ],
   "source": [
    "create_graph('townville', '2016-09-26', '2016-11-26', 0.005)"
   ]
  },
  {
   "cell_type": "code",
   "execution_count": null,
   "metadata": {},
   "outputs": [],
   "source": [
    "create_graph('santafestrong', '2018-05-15', '2018-05-25', 0.02)"
   ]
  },
  {
   "cell_type": "code",
   "execution_count": null,
   "metadata": {},
   "outputs": [],
   "source": [
    "create_graph('ifidieinaschoolshooting', '2018-05-15', '2018-06-15', 0.01)"
   ]
  },
  {
   "cell_type": "code",
   "execution_count": 123,
   "metadata": {
    "collapsed": true
   },
   "outputs": [
    {
     "data": {
      "image/png": "[encoded data removed]",
      "text/plain": [
       "<Figure size 720x360 with 1 Axes>"
      ]
     },
     "metadata": {
      "needs_background": "light"
     },
     "output_type": "display_data"
    }
   ],
   "source": [
    "create_graph('marchforourlives', '2018-02-13', '2018-05-01', 0.005)"
   ]
  },
  {
   "cell_type": "code",
   "execution_count": null,
   "metadata": {},
   "outputs": [],
   "source": []
  },
  {
   "cell_type": "markdown",
   "metadata": {},
   "source": [
    "## Co-Occurrence Networks"
   ]
  },
  {
   "cell_type": "code",
   "execution_count": 6,
   "metadata": {},
   "outputs": [],
   "source": [
    "# co_occurrence: event -> co-occurrence network \n",
    "# function takes hashtags from tweets for the give event dataframe and creates edges between them based on co-occurrence in a tweet\n",
    "# so that the output is an nx undirected graph\n",
    "\n",
    "def co_occurrence(hashtag, # hashtag with associated folder (needs to become group of hashtags)\n",
    "                   date1, # lower bound in the format 'yyyy-mm-dd'\n",
    "                   date2 # upper bound in the format 'yyyy-mm-dd'\n",
    "                ):\n",
    "    all_tweets = make_dataframe(hashtag, date1, date2)\n",
    "\n",
    "    hashtags = all_tweets.hashtags\n",
    "\n",
    "    tag_edges = []\n",
    "\n",
    "    for l in hashtags:\n",
    "        low = [i.lower() for i in l]\n",
    "        new_edges = list(itertools.product(*[low, low]))\n",
    "        tag_edges.append(new_edges)\n",
    "\n",
    "    tag_edges = list(itertools.chain.from_iterable(tag_edges))\n",
    "\n",
    "    tag_edges = [t for t in tag_edges if hashtag not in t]\n",
    "\n",
    "    tag_edges = [t for t in tag_edges if t[0] != t[1]]\n",
    "\n",
    "    weighted_proxy = list(Counter(tag_edges).most_common())\n",
    "\n",
    "    weighted_edges = [(w[0][0], w[0][1], w[1]) for w in weighted_proxy]\n",
    "\n",
    "    G = nx.Graph()\n",
    "    G.add_weighted_edges_from(weighted_edges)\n",
    "    \n",
    "    return G"
   ]
  },
  {
   "cell_type": "code",
   "execution_count": 10,
   "metadata": {},
   "outputs": [],
   "source": [
    "# create graphs for each \n",
    "\n",
    "G = co_occurrence('townville', '2016-09-26', '2016-10-26')\n",
    "P = co_occurrence('parkland', '2018-02-13','2018-04-13')\n",
    "B = co_occurrence('sanbernardino', '2015-12-01', '2015-12-22')\n",
    "S = co_occurrence('santafestrong', '2018-05-15', '2018-05-25')\n",
    "NP = co_occurrence('northpark', '2017-04-09', '2017-04-30')\n",
    "AZ = co_occurrence('aztecstrong', '2017-12-06', '2017-12-27')"
   ]
  },
  {
   "cell_type": "code",
   "execution_count": null,
   "metadata": {},
   "outputs": [],
   "source": [
    "# write graphs as gexy files for GEPHI\n",
    "nx.write_gexf(P, 'parkland_co_occurrence_graph.gexf')\n",
    "nx.write_gexf(G, 'townville_co_occurrence_graph.gexf')\n",
    "nx.write_gexf(S, 'santafestrong_co_occurrence.gexf')\n",
    "nx.write_gexf(S1, 'santafeshooting_co_occurrence.gexf')"
   ]
  },
  {
   "cell_type": "code",
   "execution_count": 7,
   "metadata": {},
   "outputs": [],
   "source": [
    "hashtags = os.listdir('hashtags')"
   ]
  },
  {
   "cell_type": "code",
   "execution_count": 77,
   "metadata": {},
   "outputs": [],
   "source": [
    "co_graphs = [G, P, S, NP, AZ]"
   ]
  },
  {
   "cell_type": "code",
   "execution_count": 78,
   "metadata": {},
   "outputs": [],
   "source": [
    "# calculates and plots network diameter for each co-occurrence graph \n",
    "\n",
    "Nd = []\n",
    "for g in co_graphs:\n",
    "    gcc = sorted(nx.connected_components(g),key=len, reverse=True)\n",
    "    try:\n",
    "        g0 = g.subgraph(gcc[0])\n",
    "        Nd.append((len(g.nodes()), nx.diameter(g0)))\n",
    "    except IndexError:\n",
    "        pass\n",
    "\n",
    "plt.scatter([i[0] for i in Nd], [i[1] for i in Nd])"
   ]
  },
  {
   "cell_type": "markdown",
   "metadata": {},
   "source": [
    "## Clusterig Coefficients"
   ]
  },
  {
   "cell_type": "code",
   "execution_count": null,
   "metadata": {},
   "outputs": [],
   "source": [
    "import stats"
   ]
  },
  {
   "cell_type": "code",
   "execution_count": 72,
   "metadata": {},
   "outputs": [],
   "source": [
    "# calculates and plots clustering coefficient for each graph\n",
    "ccs = []\n",
    "for g in co_graphs:\n",
    "    ccs.append(nx.average_clustering(g))\n",
    "plt.scatter([len(g.nodes()) for g in co_graphs], ccs)"
   ]
  },
  {
   "cell_type": "code",
   "execution_count": 88,
   "metadata": {},
   "outputs": [],
   "source": [
    "# calculates and average degree for each graph\n",
    "k_list = []\n",
    "for g in co_graphs:\n",
    "    k = np.mean([n[1] for n in list(g.degree)])\n",
    "    k_list.append(k)"
   ]
  },
  {
   "cell_type": "markdown",
   "metadata": {},
   "source": [
    "## Correcting tau"
   ]
  },
  {
   "cell_type": "markdown",
   "metadata": {},
   "source": [
    "Finding the characterstic times over the course of the Parkland time series which maximize information in the \n",
    "Naive Transfer Entropy"
   ]
  },
  {
   "cell_type": "code",
   "execution_count": 152,
   "metadata": {},
   "outputs": [],
   "source": [
    "taus_short = ['H', '2H', '5H', '10H', '12H', '15H', '24H']"
   ]
  },
  {
   "cell_type": "code",
   "execution_count": 154,
   "metadata": {},
   "outputs": [
    {
     "name": "stderr",
     "output_type": "stream",
     "text": [
      "/Library/Frameworks/Python.framework/Versions/3.7/lib/python3.7/site-packages/netrd/utilities/threshold.py:42: RuntimeWarning: Setting 'cutoffs' argument is strongly encouraged. Using cutoff range of (-1, 1).\n",
      "  RuntimeWarning,\n"
     ]
    }
   ],
   "source": [
    "weights_by_frame = []\n",
    "sum_by_frame = []\n",
    "graphs = {}\n",
    "n = 0\n",
    "\n",
    "arr_split = [10*i for i in range(1, 9)]\n",
    "ts = np.split(time_series, arr_split, axis =1)\n",
    "\n",
    "\n",
    "for t in ts:\n",
    "    weights = {}\n",
    "    T_tau_short = []\n",
    "    T_taus_short = {}\n",
    "    for delta in taus_short:\n",
    "        time_ser_df = time_ser_df.resample(delta).sum()\n",
    "        time_ser_list = []\n",
    "        for tag in top_tags:\n",
    "            time_ser_list.append(list(time_ser_df[tag]))\n",
    "        T_taus_short[delta] = np.array(time_ser_list)\n",
    "        testTE = netrd.reconstruction.NaiveTransferEntropy()\n",
    "        test = testTE.fit(T_taus_short[delta])\n",
    "        weights[delta] = [test.edges[i]['weight'] for i in test.edges]\n",
    "        T_tau_short.append((delta, sum(weights[delta])))\n",
    "    weights_by_frame.append(weights)\n",
    "    sum_by_frame.append(T_tau_short)\n",
    "    n += 1"
   ]
  },
  {
   "cell_type": "code",
   "execution_count": 156,
   "metadata": {},
   "outputs": [],
   "source": [
    "best_by_frame = []\n",
    "for f in sum_by_frame:\n",
    "    for delt in f:\n",
    "        if delt[1] == max([i[1] for i in f]):\n",
    "            best_by_frame.append(delt[0])"
   ]
  },
  {
   "cell_type": "code",
   "execution_count": 157,
   "metadata": {},
   "outputs": [
    {
     "data": {
      "text/plain": [
       "['12H', '24H', '12H', '24H', '24H', '24H', '24H', '24H', '24H']"
      ]
     },
     "execution_count": 157,
     "metadata": {},
     "output_type": "execute_result"
    }
   ],
   "source": [
    "best_by_frame"
   ]
  },
  {
   "cell_type": "code",
   "execution_count": 158,
   "metadata": {
    "scrolled": true
   },
   "outputs": [
    {
     "data": {
      "text/plain": [
       "[[('H', 0.003078000335874218),\n",
       "  ('2H', 0.012446613822111152),\n",
       "  ('5H', 0.08045206053224357),\n",
       "  ('10H', 1.95897722680269),\n",
       "  ('12H', 2.1008137432375347),\n",
       "  ('15H', 1.17730807118528),\n",
       "  ('24H', 0.6877438884025266)],\n",
       " [('H', 0.0005642997618511662),\n",
       "  ('2H', 0.0022683498232524066),\n",
       "  ('5H', 0.014391020652576289),\n",
       "  ('10H', 0.05905676966238249),\n",
       "  ('12H', 0.08593759853807395),\n",
       "  ('15H', 0.09652871637397403),\n",
       "  ('24H', 1.258616387072444)],\n",
       " [('H', 0.00040016676184992037),\n",
       "  ('2H', 0.0016083175252056062),\n",
       "  ('5H', 0.0101986354713718),\n",
       "  ('10H', 0.04181740470843809),\n",
       "  ('12H', 0.5690542245907122),\n",
       "  ('15H', 0.04059695341917646),\n",
       "  ('24H', 0.10715308599089413)],\n",
       " [('H', 0.00017246403486907355),\n",
       "  ('2H', 0.0006920235622833171),\n",
       "  ('5H', 0.004366387865534366),\n",
       "  ('10H', 0.017748817262159378),\n",
       "  ('12H', 0.025725837925032302),\n",
       "  ('15H', 0.0555652694023262),\n",
       "  ('24H', 0.14788483216540355)],\n",
       " [('H', 0.00023343065461508758),\n",
       "  ('2H', 0.0009373466168162564),\n",
       "  ('5H', 0.00592767629855287),\n",
       "  ('10H', 0.02419081164206699),\n",
       "  ('12H', 0.03512111468906648),\n",
       "  ('15H', 0.0555652694023262),\n",
       "  ('24H', 0.14788483216540355)],\n",
       " [('H', 0.00023343065461508758),\n",
       "  ('2H', 0.0009373466168162564),\n",
       "  ('5H', 0.00592767629855287),\n",
       "  ('10H', 0.02419081164206699),\n",
       "  ('12H', 0.03512111468906648),\n",
       "  ('15H', 0.0555652694023262),\n",
       "  ('24H', 0.14788483216540355)],\n",
       " [('H', 0.00023343065461508758),\n",
       "  ('2H', 0.0009373466168162564),\n",
       "  ('5H', 0.00592767629855287),\n",
       "  ('10H', 0.02419081164206699),\n",
       "  ('12H', 0.03512111468906648),\n",
       "  ('15H', 0.0555652694023262),\n",
       "  ('24H', 0.14788483216540355)],\n",
       " [('H', 0.00023343065461508758),\n",
       "  ('2H', 0.0009373466168162564),\n",
       "  ('5H', 0.00592767629855287),\n",
       "  ('10H', 0.02419081164206699),\n",
       "  ('12H', 0.03512111468906648),\n",
       "  ('15H', 0.0555652694023262),\n",
       "  ('24H', 0.14788483216540355)],\n",
       " [('H', 0.00023343065461508758),\n",
       "  ('2H', 0.0009373466168162564),\n",
       "  ('5H', 0.00592767629855287),\n",
       "  ('10H', 0.02419081164206699),\n",
       "  ('12H', 0.03512111468906648),\n",
       "  ('15H', 0.0555652694023262),\n",
       "  ('24H', 0.14788483216540355)]]"
      ]
     },
     "execution_count": 158,
     "metadata": {},
     "output_type": "execute_result"
    }
   ],
   "source": [
    "sum_by_frame"
   ]
  },
  {
   "cell_type": "code",
   "execution_count": 34,
   "metadata": {},
   "outputs": [],
   "source": [
    "taus = ['min', '2min', '5min', '10min', '15min', '20min', '30min', '45min', 'H']"
   ]
  },
  {
   "cell_type": "code",
   "execution_count": 35,
   "metadata": {},
   "outputs": [
    {
     "name": "stderr",
     "output_type": "stream",
     "text": [
      "/Library/Frameworks/Python.framework/Versions/3.7/lib/python3.7/site-packages/netrd/utilities/threshold.py:42: RuntimeWarning: Setting 'cutoffs' argument is strongly encouraged. Using cutoff range of (-1, 1).\n",
      "  RuntimeWarning,\n"
     ]
    }
   ],
   "source": [
    "T_tau = []\n",
    "time_serieses = {}\n",
    "for t in taus:\n",
    "    time_ser_df = time_ser_df.resample(t).sum()\n",
    "    time_ser_list = []\n",
    "    for tag in top_tags:\n",
    "        time_ser_list.append(list(time_ser_df[tag]))\n",
    "    time_serieses[t] = np.array(time_ser_list)\n",
    "    testTE = netrd.reconstruction.NaiveTransferEntropy()\n",
    "    test = testTE.fit(time_serieses[t])\n",
    "    weights = [test.edges[i]['weight'] for i in test.edges]\n",
    "    T_tau.append((t, sum(weights)))"
   ]
  },
  {
   "cell_type": "code",
   "execution_count": 36,
   "metadata": {
    "collapsed": true
   },
   "outputs": [
    {
     "data": {
      "text/plain": [
       "[('min', 1.5385833658800008e-07),\n",
       " ('2min', 6.154941215495919e-07),\n",
       " ('5min', 7.6908917356728e-06),\n",
       " ('10min', 3.0778966359609056e-05),\n",
       " ('15min', 6.928736305302635e-05),\n",
       " ('20min', 0.00012323927449748358),\n",
       " ('30min', 0.00027756668097324994),\n",
       " ('45min', 0.0006254670650203843),\n",
       " ('H', 0.0011136220173506815)]"
      ]
     },
     "execution_count": 36,
     "metadata": {},
     "output_type": "execute_result"
    }
   ],
   "source": [
    "T_tau"
   ]
  },
  {
   "cell_type": "code",
   "execution_count": 37,
   "metadata": {},
   "outputs": [
    {
     "data": {
      "text/plain": [
       "[<matplotlib.lines.Line2D at 0x119ead518>]"
      ]
     },
     "execution_count": 37,
     "metadata": {},
     "output_type": "execute_result"
    },
    {
     "data": {
      "image/png": "[encoded data removed]",
      "text/plain": [
       "<Figure size 432x288 with 1 Axes>"
      ]
     },
     "metadata": {
      "needs_background": "light"
     },
     "output_type": "display_data"
    }
   ],
   "source": [
    "plt.plot(range(len(T_tau)), [t[1] for t in T_tau])"
   ]
  },
  {
   "cell_type": "code",
   "execution_count": 19,
   "metadata": {},
   "outputs": [],
   "source": [
    "taus_H = ['H', '2H', '5H', '10H', '12H', '15H', '24H', '36H', '48H', '72H', '96H']"
   ]
  },
  {
   "cell_type": "code",
   "execution_count": 20,
   "metadata": {},
   "outputs": [
    {
     "name": "stderr",
     "output_type": "stream",
     "text": [
      "/Library/Frameworks/Python.framework/Versions/3.7/lib/python3.7/site-packages/netrd/utilities/threshold.py:42: RuntimeWarning: Setting 'cutoffs' argument is strongly encouraged. Using cutoff range of (-1, 1).\n",
      "  RuntimeWarning,\n"
     ]
    }
   ],
   "source": [
    "T_tau_H = []\n",
    "T_taus_H = {}\n",
    "weights = {}\n",
    "for t in taus_H:\n",
    "    time_ser_df = time_ser_df.resample(t).sum()\n",
    "    time_ser_list = []\n",
    "    for tag in top_tags:\n",
    "        time_ser_list.append(list(time_ser_df[tag]))\n",
    "    T_taus_H[t] = np.array(time_ser_list)\n",
    "    testTE = netrd.reconstruction.NaiveTransferEntropy()\n",
    "    test = testTE.fit(T_taus_H[t])\n",
    "    weights[t] = [test.edges[i]['weight'] for i in test.edges]\n",
    "    T_tau_H.append((t, sum(weights)))"
   ]
  },
  {
   "cell_type": "code",
   "execution_count": 21,
   "metadata": {},
   "outputs": [
    {
     "data": {
      "text/plain": [
       "[('H', 0.0011136220173506815),\n",
       " ('2H', 0.004481613612386096),\n",
       " ('5H', 0.028533354663956928),\n",
       " ('10H', 1.0959835028319056),\n",
       " ('12H', 0.8555777831249581),\n",
       " ('15H', 0.4052127987818095),\n",
       " ('24H', 1.146917566758003),\n",
       " ('36H', 2.360740712475348),\n",
       " ('48H', 3.602259579506283),\n",
       " ('72H', 2.352518695410154),\n",
       " ('96H', 5.394375181296873)]"
      ]
     },
     "execution_count": 21,
     "metadata": {},
     "output_type": "execute_result"
    }
   ],
   "source": [
    "T_tau_H"
   ]
  },
  {
   "cell_type": "code",
   "execution_count": 18,
   "metadata": {
    "scrolled": true
   },
   "outputs": [
    {
     "data": {
      "text/plain": [
       "[('H', 0.0011136220173506815),\n",
       " ('2H', 0.004481613612386096),\n",
       " ('5H', 0.028533354663956928),\n",
       " ('10H', 1.0959835028319056),\n",
       " ('12H', 0.8555777831249581),\n",
       " ('15H', 0.4052127987818095),\n",
       " ('24H', 1.146917566758003)]"
      ]
     },
     "execution_count": 18,
     "metadata": {},
     "output_type": "execute_result"
    }
   ],
   "source": [
    "T_tau_short"
   ]
  },
  {
   "cell_type": "markdown",
   "metadata": {},
   "source": [
    "## Time Series w Topics"
   ]
  },
  {
   "cell_type": "markdown",
   "metadata": {},
   "source": [
    "Creating a Time Series and Naive Transfer Entropy plot for topics in the Parkland tweet set"
   ]
  },
  {
   "cell_type": "code",
   "execution_count": 18,
   "metadata": {
    "collapsed": true
   },
   "outputs": [
    {
     "data": {
      "text/plain": [
       "['sfstrong',\n",
       " 'ifidieinaschoolshooting',\n",
       " 'nowaynra',\n",
       " 'sanbernardino',\n",
       " 'demandaplan',\n",
       " 'parklandstrong',\n",
       " 'townville',\n",
       " 'endgunviolence',\n",
       " 'sanbernadino',\n",
       " 'gunsensepatriot',\n",
       " 'parklandstudentsspeak',\n",
       " '.DS_Store',\n",
       " 'iwillmarch',\n",
       " 'northpark',\n",
       " 'aztecstrong',\n",
       " 'nationalschoolwalkout',\n",
       " 'parklandshooting',\n",
       " 'neveragain',\n",
       " 'freemanhighschool',\n",
       " 'santafestrong',\n",
       " 'enoughisenough',\n",
       " 'gunskillpeople',\n",
       " 'townvilleelementaryschool',\n",
       " 'gunviolenceawareness',\n",
       " 'freemanstrong',\n",
       " 'aztechighschool',\n",
       " 'momsdemandaction',\n",
       " 'marjorystonemandouglashighschool',\n",
       " 'gunviolence',\n",
       " 'northparkelementaryschool',\n",
       " 'parkland',\n",
       " 'stonemanstrong',\n",
       " 'santafehighschool',\n",
       " 'marchforourlives',\n",
       " 'prayforsanbernadino',\n",
       " 'nra',\n",
       " 'prayforsanbernardino',\n",
       " 'marshallcountyhighschool',\n",
       " 'momsdemand',\n",
       " 'votegunsense',\n",
       " 'townvillestrong',\n",
       " 'aztecschoolshooting',\n",
       " 'gabeparker',\n",
       " 'santafeshooting',\n",
       " 'marjorystonemandouglas',\n",
       " 'freeman',\n",
       " 'prayforaztec',\n",
       " 'guncontrolnow']"
      ]
     },
     "execution_count": 18,
     "metadata": {},
     "output_type": "execute_result"
    }
   ],
   "source": [
    "# Creating the tweet dataframe\n",
    "os.listdir('hashtags')\n",
    "all_tweets_w = make_dataframe('parkland','2018-02-01','2018-04-01')"
   ]
  },
  {
   "cell_type": "code",
   "execution_count": 90,
   "metadata": {},
   "outputs": [],
   "source": [
    "import nltk\n",
    "from nltk.corpus import stopwords\n",
    "import re, string"
   ]
  },
  {
   "cell_type": "code",
   "execution_count": 466,
   "metadata": {},
   "outputs": [],
   "source": [
    "stop_words = set(stopwords.words('english'))"
   ]
  },
  {
   "cell_type": "code",
   "execution_count": 467,
   "metadata": {},
   "outputs": [],
   "source": [
    "# cleaning text and turning each tweet into Bag of Words (BoW) and appending to DF\n",
    "remove_words = ['aren\\'t', 'rt', 'this', 'were', 'time', 'arent', 'yet', 'the']\n",
    "filter1_text = [[word.lower() for word in tweet.split(' ')] for tweet in list(all_tweets_w.text)]\n",
    "filter2_text = [[word for word in tweet if word not in stop_words] for tweet in filter1_text]\n",
    "filter3_text = [[word.strip('') for word in tweet if 'https' not in word and '#park' not in word] for tweet in filter2_text]\n",
    "filtered_text = [[re.sub(r'\\W+', '', word) for word in tweet] for tweet in filter3_text]\n",
    "final_text = [[word for word in tweet if word not in remove_words] for tweet in filtered_text]\n",
    "all_tweets_w['topics'] = final_text"
   ]
  },
  {
   "cell_type": "code",
   "execution_count": 469,
   "metadata": {},
   "outputs": [],
   "source": [
    "# working DF with datetime, hashtags, and and BoW\n",
    "time_ser_df = pd.DataFrame(data = {'pd_datetime': list(all_tweets_w.pd_datetime),\n",
    "                                   'hashtags': list(all_tweets_w.hashtags),\n",
    "                                  'topics': list(all_tweets_w.topics)})"
   ]
  },
  {
   "cell_type": "code",
   "execution_count": 470,
   "metadata": {},
   "outputs": [],
   "source": [
    "# finding topic frequencies for all tweets in Parkland dataset \n",
    "all_topics = list(itertools.chain.from_iterable(all_tweets_w.topics))\n",
    "all_topics = [h for h in all_topics if h != 'parkland']\n",
    "topic_freq = Counter(all_topics).most_common()"
   ]
  },
  {
   "cell_type": "code",
   "execution_count": 471,
   "metadata": {},
   "outputs": [],
   "source": [
    "# top_topics: list\n",
    "# all topics with frequency > 5% \n",
    "p = 0.05\n",
    "top_topics = [topic[0] for topic in topic_freq if (topic[1] > p * len(all_tweets_w))]\n",
    "top_topics.remove('')"
   ]
  },
  {
   "cell_type": "code",
   "execution_count": 473,
   "metadata": {},
   "outputs": [],
   "source": [
    "# append frequency of topic to working DF\n",
    "for topic in top_topics:\n",
    "    counts = []\n",
    "    for i in range(len(time_ser_df.pd_datetime)):\n",
    "        counts.append(time_ser_df.topics[i].count(topic))\n",
    "    time_ser_df[topic] = counts"
   ]
  },
  {
   "cell_type": "code",
   "execution_count": 474,
   "metadata": {},
   "outputs": [],
   "source": [
    "# bin DF to 12H and create a second for 24H\n",
    "time_ser_df = time_ser_df.set_index('pd_datetime')\n",
    "time_ser_df = time_ser_df.resample('12H').sum()\n",
    "time_ser_df_long = time_ser_df.resample('24H').sum()"
   ]
  },
  {
   "cell_type": "code",
   "execution_count": 477,
   "metadata": {},
   "outputs": [
    {
     "data": {
      "text/plain": [
       "DatetimeIndex(['2018-02-12 12:00:00', '2018-02-17 12:00:00',\n",
       "               '2018-02-22 12:00:00', '2018-02-27 12:00:00',\n",
       "               '2018-03-04 12:00:00', '2018-03-09 12:00:00',\n",
       "               '2018-03-14 12:00:00', '2018-03-19 12:00:00'],\n",
       "              dtype='datetime64[ns]', name='pd_datetime', freq=None)"
      ]
     },
     "execution_count": 477,
     "metadata": {},
     "output_type": "execute_result"
    }
   ],
   "source": [
    "# Bin tweets as per calculated Tau \n",
    "\n",
    "time_split = [10*i for i in range(1, 9)]\n",
    "time_split = time_ser_df.index[time_split]\n",
    "\n",
    "short_1 = time_ser_df[:time_split[0]]\n",
    "short_2 = time_ser_df[time_split[1]:time_split[2]]\n",
    "long_1 = time_ser_df_long[time_split[0]:time_split[1]]\n",
    "long_2 = time_ser_df_long[time_split[2]:]\n",
    "\n",
    "test_ser_df = short_1.append(long_1).append(short_1).append(long_2)"
   ]
  },
  {
   "cell_type": "code",
   "execution_count": 480,
   "metadata": {},
   "outputs": [],
   "source": [
    "time_ser_df = test_ser_df"
   ]
  },
  {
   "cell_type": "code",
   "execution_count": 481,
   "metadata": {},
   "outputs": [],
   "source": [
    "time_ser_list = []"
   ]
  },
  {
   "cell_type": "code",
   "execution_count": 482,
   "metadata": {},
   "outputs": [
    {
     "data": {
      "text/plain": [
       "<matplotlib.legend.Legend at 0x11df57b00>"
      ]
     },
     "execution_count": 482,
     "metadata": {},
     "output_type": "execute_result"
    },
    {
     "data": {
      "image/png": "[encoded data removed]",
      "text/plain": [
       "<Figure size 720x360 with 1 Axes>"
      ]
     },
     "metadata": {
      "needs_background": "light"
     },
     "output_type": "display_data"
    }
   ],
   "source": [
    "# output time series as np.array()\n",
    "time_since = [(t-all_tweets_w.pd_datetime[0]).total_seconds()/(60**2) for t in time_ser_df.index]\n",
    "plt.figure(figsize = (10,5))\n",
    "for topic in top_topics:\n",
    "    time_ser_list.append(list(time_ser_df[topic]))\n",
    "    plt.plot(time_since, time_ser_df[topic], label = topic)\n",
    "plt.legend(bbox_to_anchor = (1, 0.25, 0.3, 0.7))"
   ]
  },
  {
   "cell_type": "code",
   "execution_count": 483,
   "metadata": {},
   "outputs": [],
   "source": [
    "time_series = np.array(time_ser_list)"
   ]
  },
  {
   "cell_type": "markdown",
   "metadata": {},
   "source": [
    "### Topic Naive Transfer Entropy "
   ]
  },
  {
   "cell_type": "code",
   "execution_count": 485,
   "metadata": {},
   "outputs": [],
   "source": [
    "STE = netrd.reconstruction.NaiveTransferEntropy()"
   ]
  },
  {
   "cell_type": "code",
   "execution_count": 489,
   "metadata": {},
   "outputs": [],
   "source": [
    "# Split arrays as per Tau\n",
    "arr_split = [len(short_1), len(short_1)+len(long_1), \n",
    "             len(short_1)+len(short_2)+len(long_1), \n",
    "            len(short_1)+len(short_2)+len(long_1) + 5,\n",
    "            len(short_1)+len(short_2)+len(long_1) + 10,\n",
    "            len(short_1)+len(short_2)+len(long_1) + 15,\n",
    "            len(short_1)+len(short_2)+len(long_1) + 20,\n",
    "            len(short_1)+len(short_2)+len(long_1) + 25]"
   ]
  },
  {
   "cell_type": "code",
   "execution_count": 490,
   "metadata": {},
   "outputs": [],
   "source": [
    "# ts: time_series DF split as per arr_split\n",
    "ts = np.split(time_series, arr_split, axis =1)"
   ]
  },
  {
   "cell_type": "code",
   "execution_count": 500,
   "metadata": {},
   "outputs": [
    {
     "name": "stderr",
     "output_type": "stream",
     "text": [
      "/Library/Frameworks/Python.framework/Versions/3.7/lib/python3.7/site-packages/netrd/utilities/threshold.py:42: RuntimeWarning: Setting 'cutoffs' argument is strongly encouraged. Using cutoff range of (-1, 1).\n",
      "  RuntimeWarning,\n"
     ]
    }
   ],
   "source": [
    "# Run NTE for each time block to get NTE weights and create NTE graphs \n",
    "\n",
    "weights = {}\n",
    "graphs = {}\n",
    "n = 0\n",
    "for t in ts:\n",
    "    STE = netrd.reconstruction.NaiveTransferEntropy()\n",
    "    s = STE.fit(t)\n",
    "    weights[n] = [(i, s.edges[i]['weight']) for i in s.edges]\n",
    "    graphs[n] = s\n",
    "    n += 1\n",
    "    "
   ]
  },
  {
   "cell_type": "code",
   "execution_count": 501,
   "metadata": {},
   "outputs": [],
   "source": [
    "for g in graphs:\n",
    "    a = dict(graphs[g].edges)\n",
    "    TS_0 = []\n",
    "    for (n, p) in a:\n",
    "        try:\n",
    "            TS_0.append(((n,p),a[(n,p)]['weight'] - a[(p,n)]['weight']))\n",
    "        except KeyError: \n",
    "            TS_0.append(((n,p), a[n,p]['weight']))\n",
    "    for i in TS_0:\n",
    "        a[i[0]]['norm_weight'] = i[1]"
   ]
  },
  {
   "cell_type": "code",
   "execution_count": 502,
   "metadata": {},
   "outputs": [
    {
     "data": {
      "text/plain": [
       "{}"
      ]
     },
     "execution_count": 502,
     "metadata": {},
     "output_type": "execute_result"
    }
   ],
   "source": [
    "dict(graphs[0].edges)"
   ]
  },
  {
   "cell_type": "code",
   "execution_count": 494,
   "metadata": {
    "collapsed": true
   },
   "outputs": [
    {
     "ename": "AttributeError",
     "evalue": "'Graph' object has no attribute 'in_degree'",
     "output_type": "error",
     "traceback": [
      "\u001b[0;31m---------------------------------------------------------------------------\u001b[0m",
      "\u001b[0;31mAttributeError\u001b[0m                            Traceback (most recent call last)",
      "\u001b[0;32m<ipython-input-494-1211e319b918>\u001b[0m in \u001b[0;36m<module>\u001b[0;34m()\u001b[0m\n\u001b[1;32m      1\u001b[0m \u001b[0mheat\u001b[0m \u001b[0;34m=\u001b[0m \u001b[0;34m[\u001b[0m\u001b[0;34m]\u001b[0m\u001b[0;34m\u001b[0m\u001b[0m\n\u001b[1;32m      2\u001b[0m \u001b[0;32mfor\u001b[0m \u001b[0mt\u001b[0m \u001b[0;32min\u001b[0m \u001b[0mgraphs\u001b[0m\u001b[0;34m:\u001b[0m\u001b[0;34m\u001b[0m\u001b[0m\n\u001b[0;32m----> 3\u001b[0;31m     \u001b[0mh\u001b[0m \u001b[0;34m=\u001b[0m \u001b[0;34m[\u001b[0m\u001b[0mgraphs\u001b[0m\u001b[0;34m[\u001b[0m\u001b[0mt\u001b[0m\u001b[0;34m]\u001b[0m\u001b[0;34m.\u001b[0m\u001b[0min_degree\u001b[0m\u001b[0;34m(\u001b[0m\u001b[0mn\u001b[0m\u001b[0;34m,\u001b[0m \u001b[0mweight\u001b[0m \u001b[0;34m=\u001b[0m \u001b[0;34m'norm_weight'\u001b[0m\u001b[0;34m)\u001b[0m \u001b[0;32mfor\u001b[0m \u001b[0mn\u001b[0m \u001b[0;32min\u001b[0m \u001b[0mgraphs\u001b[0m\u001b[0;34m[\u001b[0m\u001b[0mt\u001b[0m\u001b[0;34m]\u001b[0m\u001b[0;34m]\u001b[0m\u001b[0;34m\u001b[0m\u001b[0m\n\u001b[0m\u001b[1;32m      4\u001b[0m     \u001b[0mheat\u001b[0m\u001b[0;34m.\u001b[0m\u001b[0mappend\u001b[0m\u001b[0;34m(\u001b[0m\u001b[0mh\u001b[0m\u001b[0;34m)\u001b[0m\u001b[0;34m\u001b[0m\u001b[0m\n",
      "\u001b[0;32m<ipython-input-494-1211e319b918>\u001b[0m in \u001b[0;36m<listcomp>\u001b[0;34m(.0)\u001b[0m\n\u001b[1;32m      1\u001b[0m \u001b[0mheat\u001b[0m \u001b[0;34m=\u001b[0m \u001b[0;34m[\u001b[0m\u001b[0;34m]\u001b[0m\u001b[0;34m\u001b[0m\u001b[0m\n\u001b[1;32m      2\u001b[0m \u001b[0;32mfor\u001b[0m \u001b[0mt\u001b[0m \u001b[0;32min\u001b[0m \u001b[0mgraphs\u001b[0m\u001b[0;34m:\u001b[0m\u001b[0;34m\u001b[0m\u001b[0m\n\u001b[0;32m----> 3\u001b[0;31m     \u001b[0mh\u001b[0m \u001b[0;34m=\u001b[0m \u001b[0;34m[\u001b[0m\u001b[0mgraphs\u001b[0m\u001b[0;34m[\u001b[0m\u001b[0mt\u001b[0m\u001b[0;34m]\u001b[0m\u001b[0;34m.\u001b[0m\u001b[0min_degree\u001b[0m\u001b[0;34m(\u001b[0m\u001b[0mn\u001b[0m\u001b[0;34m,\u001b[0m \u001b[0mweight\u001b[0m \u001b[0;34m=\u001b[0m \u001b[0;34m'norm_weight'\u001b[0m\u001b[0;34m)\u001b[0m \u001b[0;32mfor\u001b[0m \u001b[0mn\u001b[0m \u001b[0;32min\u001b[0m \u001b[0mgraphs\u001b[0m\u001b[0;34m[\u001b[0m\u001b[0mt\u001b[0m\u001b[0;34m]\u001b[0m\u001b[0;34m]\u001b[0m\u001b[0;34m\u001b[0m\u001b[0m\n\u001b[0m\u001b[1;32m      4\u001b[0m     \u001b[0mheat\u001b[0m\u001b[0;34m.\u001b[0m\u001b[0mappend\u001b[0m\u001b[0;34m(\u001b[0m\u001b[0mh\u001b[0m\u001b[0;34m)\u001b[0m\u001b[0;34m\u001b[0m\u001b[0m\n",
      "\u001b[0;31mAttributeError\u001b[0m: 'Graph' object has no attribute 'in_degree'"
     ]
    }
   ],
   "source": [
    "heat = []\n",
    "for t in graphs:\n",
    "    h = [graphs[t].in_degree(n, weight = 'norm_weight') for n in graphs[t]]\n",
    "    heat.append(h)"
   ]
  },
  {
   "cell_type": "code",
   "execution_count": 495,
   "metadata": {
    "collapsed": true
   },
   "outputs": [
    {
     "ename": "ValueError",
     "evalue": "max() arg is an empty sequence",
     "output_type": "error",
     "traceback": [
      "\u001b[0;31m---------------------------------------------------------------------------\u001b[0m",
      "\u001b[0;31mValueError\u001b[0m                                Traceback (most recent call last)",
      "\u001b[0;32m<ipython-input-495-259524cb6b5a>\u001b[0m in \u001b[0;36m<module>\u001b[0;34m()\u001b[0m\n\u001b[0;32m----> 1\u001b[0;31m \u001b[0mmax_heat\u001b[0m \u001b[0;34m=\u001b[0m \u001b[0mmax\u001b[0m\u001b[0;34m(\u001b[0m\u001b[0mlist\u001b[0m\u001b[0;34m(\u001b[0m\u001b[0mitertools\u001b[0m\u001b[0;34m.\u001b[0m\u001b[0mchain\u001b[0m\u001b[0;34m.\u001b[0m\u001b[0mfrom_iterable\u001b[0m\u001b[0;34m(\u001b[0m\u001b[0mheat\u001b[0m\u001b[0;34m)\u001b[0m\u001b[0;34m)\u001b[0m\u001b[0;34m)\u001b[0m\u001b[0;34m\u001b[0m\u001b[0m\n\u001b[0m",
      "\u001b[0;31mValueError\u001b[0m: max() arg is an empty sequence"
     ]
    }
   ],
   "source": [
    "max_heat = max(list(itertools.chain.from_iterable(heat)))"
   ]
  },
  {
   "cell_type": "code",
   "execution_count": 110,
   "metadata": {},
   "outputs": [],
   "source": [
    "heat = [[n/max_heat for n in h] for h in heat]"
   ]
  },
  {
   "cell_type": "code",
   "execution_count": 111,
   "metadata": {},
   "outputs": [],
   "source": [
    "heat_np = np.array(heat)\n",
    "heat_np = np.transpose(heat_np)"
   ]
  },
  {
   "cell_type": "code",
   "execution_count": 119,
   "metadata": {},
   "outputs": [],
   "source": [
    "label_dates = list(time_ser_df.index[_split].strftime('%Y-%m-%d'))"
   ]
  },
  {
   "cell_type": "code",
   "execution_count": 124,
   "metadata": {},
   "outputs": [
    {
     "data": {
      "text/plain": [
       "<matplotlib.axes._subplots.AxesSubplot at 0x11e1b8780>"
      ]
     },
     "execution_count": 124,
     "metadata": {},
     "output_type": "execute_result"
    },
    {
     "data": {
      "image/png": "[encoded data removed]",
      "text/plain": [
       "<Figure size 504x360 with 2 Axes>"
      ]
     },
     "metadata": {
      "needs_background": "light"
     },
     "output_type": "display_data"
    }
   ],
   "source": [
    "plt.figure(figsize = (7, 5))\n",
    "seaborn.heatmap(heat_np, xticklabels = label_dates, yticklabels = top_topics)\n",
    "plt.ylabel('Topic')\n",
    "plt.xlabel('Date')"
   ]
  },
  {
   "cell_type": "markdown",
   "metadata": {},
   "source": [
    "## Time Series w Hashtags"
   ]
  },
  {
   "cell_type": "markdown",
   "metadata": {},
   "source": [
    "Same as NTE for topics, but for hashtags"
   ]
  },
  {
   "cell_type": "code",
   "execution_count": 6,
   "metadata": {},
   "outputs": [],
   "source": [
    "all_tweets_short = make_dataframe('parkland','2018-02-13','2018-04-01')"
   ]
  },
  {
   "cell_type": "code",
   "execution_count": 7,
   "metadata": {},
   "outputs": [],
   "source": [
    "all_tags = list(itertools.chain.from_iterable(all_tweets_short.hashtags))\n",
    "all_tags = [h for h in all_tags if h != 'parkland']\n",
    "tag_freq = Counter(all_tags).most_common()"
   ]
  },
  {
   "cell_type": "code",
   "execution_count": 8,
   "metadata": {},
   "outputs": [],
   "source": [
    "p = 0.01\n",
    "top_tags = [tag[0] for tag in tag_freq if tag[1] > p * len(all_tweets_short)]"
   ]
  },
  {
   "cell_type": "code",
   "execution_count": 9,
   "metadata": {},
   "outputs": [],
   "source": [
    "time_ser_df = pd.DataFrame(data = {'pd_datetime': list(all_tweets_short.pd_datetime),\n",
    "                                   'hashtags': list(all_tweets_short.hashtags),\n",
    "                                  'topics': list(all_tweets_short.hashtags)})"
   ]
  },
  {
   "cell_type": "code",
   "execution_count": 10,
   "metadata": {},
   "outputs": [],
   "source": [
    "for tag in top_tags:\n",
    "    counts = []\n",
    "    for i in range(len(time_ser_df.pd_datetime)):\n",
    "        counts.append(time_ser_df.hashtags[i].count(tag))\n",
    "    time_ser_df[tag] = counts"
   ]
  },
  {
   "cell_type": "code",
   "execution_count": 11,
   "metadata": {},
   "outputs": [],
   "source": [
    "time_ser_df = time_ser_df.set_index('pd_datetime')"
   ]
  },
  {
   "cell_type": "code",
   "execution_count": 12,
   "metadata": {},
   "outputs": [],
   "source": [
    "time_ser_df = time_ser_df.resample('12H').sum()"
   ]
  },
  {
   "cell_type": "code",
   "execution_count": 13,
   "metadata": {},
   "outputs": [],
   "source": [
    "time_ser_df_long = time_ser_df.resample('24H').sum()"
   ]
  },
  {
   "cell_type": "code",
   "execution_count": 14,
   "metadata": {},
   "outputs": [
    {
     "data": {
      "text/plain": [
       "DatetimeIndex(['2018-02-19 12:00:00', '2018-02-24 12:00:00',\n",
       "               '2018-03-01 12:00:00', '2018-03-06 12:00:00',\n",
       "               '2018-03-11 12:00:00', '2018-03-16 12:00:00',\n",
       "               '2018-03-21 12:00:00', '2018-03-26 12:00:00'],\n",
       "              dtype='datetime64[ns]', name='pd_datetime', freq=None)"
      ]
     },
     "execution_count": 14,
     "metadata": {},
     "output_type": "execute_result"
    }
   ],
   "source": [
    "time_split = [10*i for i in range(1, 9)]\n",
    "time_split = time_ser_df.index[time_split]\n",
    "time_split"
   ]
  },
  {
   "cell_type": "code",
   "execution_count": 15,
   "metadata": {
    "scrolled": true
   },
   "outputs": [],
   "source": [
    "short_1 = time_ser_df[:time_split[0]]\n",
    "short_2 = time_ser_df[time_split[1]:time_split[2]]\n",
    "long_1 = time_ser_df_long[time_split[0]:time_split[1]]\n",
    "long_2 = time_ser_df_long[time_split[2]:]"
   ]
  },
  {
   "cell_type": "code",
   "execution_count": 23,
   "metadata": {},
   "outputs": [],
   "source": [
    "test_ser_df = short_1.append(long_1).append(short_2).append(long_2)"
   ]
  },
  {
   "cell_type": "code",
   "execution_count": 24,
   "metadata": {},
   "outputs": [
    {
     "data": {
      "text/plain": [
       "57"
      ]
     },
     "execution_count": 24,
     "metadata": {},
     "output_type": "execute_result"
    }
   ],
   "source": [
    "len(test_ser_df)"
   ]
  },
  {
   "cell_type": "code",
   "execution_count": 59,
   "metadata": {},
   "outputs": [],
   "source": [
    "time_ser_df = test_ser_df"
   ]
  },
  {
   "cell_type": "code",
   "execution_count": 60,
   "metadata": {},
   "outputs": [],
   "source": [
    "time_ser_combined = []"
   ]
  },
  {
   "cell_type": "code",
   "execution_count": 61,
   "metadata": {},
   "outputs": [],
   "source": [
    "time_ser_list = []"
   ]
  },
  {
   "cell_type": "code",
   "execution_count": 62,
   "metadata": {
    "collapsed": true
   },
   "outputs": [
    {
     "data": {
      "text/html": [
       "<div>\n",
       "<style scoped>\n",
       "    .dataframe tbody tr th:only-of-type {\n",
       "        vertical-align: middle;\n",
       "    }\n",
       "\n",
       "    .dataframe tbody tr th {\n",
       "        vertical-align: top;\n",
       "    }\n",
       "\n",
       "    .dataframe thead th {\n",
       "        text-align: right;\n",
       "    }\n",
       "</style>\n",
       "<table border=\"1\" class=\"dataframe\">\n",
       "  <thead>\n",
       "    <tr style=\"text-align: right;\">\n",
       "      <th></th>\n",
       "      <th>nra</th>\n",
       "      <th>guncontrol</th>\n",
       "      <th>florida</th>\n",
       "      <th>marchforourlives</th>\n",
       "      <th>neveragain</th>\n",
       "      <th>guncontrolnow</th>\n",
       "      <th>maga</th>\n",
       "      <th>america</th>\n",
       "      <th>gunreformnow</th>\n",
       "      <th>parklandshooting</th>\n",
       "      <th>leftistsedition</th>\n",
       "      <th>leftistterrorism</th>\n",
       "      <th>trump</th>\n",
       "      <th>2a</th>\n",
       "    </tr>\n",
       "    <tr>\n",
       "      <th>pd_datetime</th>\n",
       "      <th></th>\n",
       "      <th></th>\n",
       "      <th></th>\n",
       "      <th></th>\n",
       "      <th></th>\n",
       "      <th></th>\n",
       "      <th></th>\n",
       "      <th></th>\n",
       "      <th></th>\n",
       "      <th></th>\n",
       "      <th></th>\n",
       "      <th></th>\n",
       "      <th></th>\n",
       "      <th></th>\n",
       "    </tr>\n",
       "  </thead>\n",
       "  <tbody>\n",
       "    <tr>\n",
       "      <th>2018-02-14 12:00:00</th>\n",
       "      <td>6</td>\n",
       "      <td>16</td>\n",
       "      <td>48</td>\n",
       "      <td>0</td>\n",
       "      <td>0</td>\n",
       "      <td>40</td>\n",
       "      <td>1</td>\n",
       "      <td>1</td>\n",
       "      <td>0</td>\n",
       "      <td>8</td>\n",
       "      <td>0</td>\n",
       "      <td>0</td>\n",
       "      <td>1</td>\n",
       "      <td>0</td>\n",
       "    </tr>\n",
       "    <tr>\n",
       "      <th>2018-02-15 00:00:00</th>\n",
       "      <td>10</td>\n",
       "      <td>80</td>\n",
       "      <td>93</td>\n",
       "      <td>0</td>\n",
       "      <td>0</td>\n",
       "      <td>53</td>\n",
       "      <td>22</td>\n",
       "      <td>4</td>\n",
       "      <td>3</td>\n",
       "      <td>23</td>\n",
       "      <td>0</td>\n",
       "      <td>0</td>\n",
       "      <td>21</td>\n",
       "      <td>1</td>\n",
       "    </tr>\n",
       "    <tr>\n",
       "      <th>2018-02-15 12:00:00</th>\n",
       "      <td>15</td>\n",
       "      <td>63</td>\n",
       "      <td>60</td>\n",
       "      <td>0</td>\n",
       "      <td>0</td>\n",
       "      <td>34</td>\n",
       "      <td>25</td>\n",
       "      <td>0</td>\n",
       "      <td>43</td>\n",
       "      <td>22</td>\n",
       "      <td>0</td>\n",
       "      <td>0</td>\n",
       "      <td>18</td>\n",
       "      <td>3</td>\n",
       "    </tr>\n",
       "    <tr>\n",
       "      <th>2018-02-16 00:00:00</th>\n",
       "      <td>6</td>\n",
       "      <td>18</td>\n",
       "      <td>22</td>\n",
       "      <td>0</td>\n",
       "      <td>0</td>\n",
       "      <td>16</td>\n",
       "      <td>18</td>\n",
       "      <td>0</td>\n",
       "      <td>22</td>\n",
       "      <td>8</td>\n",
       "      <td>2</td>\n",
       "      <td>2</td>\n",
       "      <td>6</td>\n",
       "      <td>0</td>\n",
       "    </tr>\n",
       "    <tr>\n",
       "      <th>2018-02-16 12:00:00</th>\n",
       "      <td>6</td>\n",
       "      <td>42</td>\n",
       "      <td>8</td>\n",
       "      <td>0</td>\n",
       "      <td>0</td>\n",
       "      <td>17</td>\n",
       "      <td>17</td>\n",
       "      <td>0</td>\n",
       "      <td>21</td>\n",
       "      <td>10</td>\n",
       "      <td>1</td>\n",
       "      <td>1</td>\n",
       "      <td>5</td>\n",
       "      <td>1</td>\n",
       "    </tr>\n",
       "    <tr>\n",
       "      <th>2018-02-17 00:00:00</th>\n",
       "      <td>1</td>\n",
       "      <td>66</td>\n",
       "      <td>9</td>\n",
       "      <td>0</td>\n",
       "      <td>0</td>\n",
       "      <td>6</td>\n",
       "      <td>1</td>\n",
       "      <td>0</td>\n",
       "      <td>10</td>\n",
       "      <td>4</td>\n",
       "      <td>0</td>\n",
       "      <td>0</td>\n",
       "      <td>0</td>\n",
       "      <td>0</td>\n",
       "    </tr>\n",
       "    <tr>\n",
       "      <th>2018-02-17 12:00:00</th>\n",
       "      <td>4</td>\n",
       "      <td>58</td>\n",
       "      <td>19</td>\n",
       "      <td>0</td>\n",
       "      <td>2</td>\n",
       "      <td>26</td>\n",
       "      <td>11</td>\n",
       "      <td>0</td>\n",
       "      <td>11</td>\n",
       "      <td>4</td>\n",
       "      <td>0</td>\n",
       "      <td>0</td>\n",
       "      <td>0</td>\n",
       "      <td>1</td>\n",
       "    </tr>\n",
       "    <tr>\n",
       "      <th>2018-02-18 00:00:00</th>\n",
       "      <td>6</td>\n",
       "      <td>20</td>\n",
       "      <td>13</td>\n",
       "      <td>0</td>\n",
       "      <td>2</td>\n",
       "      <td>8</td>\n",
       "      <td>7</td>\n",
       "      <td>1</td>\n",
       "      <td>6</td>\n",
       "      <td>1</td>\n",
       "      <td>0</td>\n",
       "      <td>0</td>\n",
       "      <td>7</td>\n",
       "      <td>1</td>\n",
       "    </tr>\n",
       "    <tr>\n",
       "      <th>2018-02-18 12:00:00</th>\n",
       "      <td>11</td>\n",
       "      <td>16</td>\n",
       "      <td>8</td>\n",
       "      <td>4</td>\n",
       "      <td>4</td>\n",
       "      <td>4</td>\n",
       "      <td>4</td>\n",
       "      <td>0</td>\n",
       "      <td>6</td>\n",
       "      <td>3</td>\n",
       "      <td>2</td>\n",
       "      <td>2</td>\n",
       "      <td>3</td>\n",
       "      <td>2</td>\n",
       "    </tr>\n",
       "    <tr>\n",
       "      <th>2018-02-19 00:00:00</th>\n",
       "      <td>6</td>\n",
       "      <td>9</td>\n",
       "      <td>12</td>\n",
       "      <td>7</td>\n",
       "      <td>7</td>\n",
       "      <td>0</td>\n",
       "      <td>0</td>\n",
       "      <td>0</td>\n",
       "      <td>5</td>\n",
       "      <td>0</td>\n",
       "      <td>3</td>\n",
       "      <td>3</td>\n",
       "      <td>1</td>\n",
       "      <td>0</td>\n",
       "    </tr>\n",
       "    <tr>\n",
       "      <th>2018-02-19 12:00:00</th>\n",
       "      <td>10</td>\n",
       "      <td>35</td>\n",
       "      <td>4</td>\n",
       "      <td>2</td>\n",
       "      <td>4</td>\n",
       "      <td>1</td>\n",
       "      <td>0</td>\n",
       "      <td>0</td>\n",
       "      <td>4</td>\n",
       "      <td>2</td>\n",
       "      <td>2</td>\n",
       "      <td>2</td>\n",
       "      <td>2</td>\n",
       "      <td>1</td>\n",
       "    </tr>\n",
       "    <tr>\n",
       "      <th>2018-02-20 00:00:00</th>\n",
       "      <td>33</td>\n",
       "      <td>16</td>\n",
       "      <td>25</td>\n",
       "      <td>10</td>\n",
       "      <td>12</td>\n",
       "      <td>1</td>\n",
       "      <td>4</td>\n",
       "      <td>0</td>\n",
       "      <td>10</td>\n",
       "      <td>11</td>\n",
       "      <td>7</td>\n",
       "      <td>7</td>\n",
       "      <td>6</td>\n",
       "      <td>3</td>\n",
       "    </tr>\n",
       "    <tr>\n",
       "      <th>2018-02-21 00:00:00</th>\n",
       "      <td>37</td>\n",
       "      <td>9</td>\n",
       "      <td>20</td>\n",
       "      <td>14</td>\n",
       "      <td>17</td>\n",
       "      <td>2</td>\n",
       "      <td>5</td>\n",
       "      <td>22</td>\n",
       "      <td>19</td>\n",
       "      <td>4</td>\n",
       "      <td>6</td>\n",
       "      <td>6</td>\n",
       "      <td>3</td>\n",
       "      <td>4</td>\n",
       "    </tr>\n",
       "    <tr>\n",
       "      <th>2018-02-22 00:00:00</th>\n",
       "      <td>68</td>\n",
       "      <td>9</td>\n",
       "      <td>8</td>\n",
       "      <td>14</td>\n",
       "      <td>13</td>\n",
       "      <td>4</td>\n",
       "      <td>24</td>\n",
       "      <td>40</td>\n",
       "      <td>17</td>\n",
       "      <td>7</td>\n",
       "      <td>7</td>\n",
       "      <td>7</td>\n",
       "      <td>18</td>\n",
       "      <td>2</td>\n",
       "    </tr>\n",
       "    <tr>\n",
       "      <th>2018-02-23 00:00:00</th>\n",
       "      <td>47</td>\n",
       "      <td>7</td>\n",
       "      <td>7</td>\n",
       "      <td>4</td>\n",
       "      <td>11</td>\n",
       "      <td>2</td>\n",
       "      <td>11</td>\n",
       "      <td>6</td>\n",
       "      <td>9</td>\n",
       "      <td>6</td>\n",
       "      <td>8</td>\n",
       "      <td>8</td>\n",
       "      <td>9</td>\n",
       "      <td>1</td>\n",
       "    </tr>\n",
       "    <tr>\n",
       "      <th>2018-02-24 00:00:00</th>\n",
       "      <td>37</td>\n",
       "      <td>8</td>\n",
       "      <td>4</td>\n",
       "      <td>5</td>\n",
       "      <td>21</td>\n",
       "      <td>2</td>\n",
       "      <td>8</td>\n",
       "      <td>80</td>\n",
       "      <td>7</td>\n",
       "      <td>1</td>\n",
       "      <td>20</td>\n",
       "      <td>20</td>\n",
       "      <td>3</td>\n",
       "      <td>5</td>\n",
       "    </tr>\n",
       "    <tr>\n",
       "      <th>2018-02-24 12:00:00</th>\n",
       "      <td>22</td>\n",
       "      <td>5</td>\n",
       "      <td>2</td>\n",
       "      <td>3</td>\n",
       "      <td>17</td>\n",
       "      <td>2</td>\n",
       "      <td>6</td>\n",
       "      <td>66</td>\n",
       "      <td>5</td>\n",
       "      <td>1</td>\n",
       "      <td>7</td>\n",
       "      <td>7</td>\n",
       "      <td>2</td>\n",
       "      <td>3</td>\n",
       "    </tr>\n",
       "    <tr>\n",
       "      <th>2018-02-25 00:00:00</th>\n",
       "      <td>6</td>\n",
       "      <td>2</td>\n",
       "      <td>1</td>\n",
       "      <td>4</td>\n",
       "      <td>5</td>\n",
       "      <td>0</td>\n",
       "      <td>3</td>\n",
       "      <td>35</td>\n",
       "      <td>1</td>\n",
       "      <td>4</td>\n",
       "      <td>11</td>\n",
       "      <td>11</td>\n",
       "      <td>0</td>\n",
       "      <td>1</td>\n",
       "    </tr>\n",
       "    <tr>\n",
       "      <th>2018-02-25 12:00:00</th>\n",
       "      <td>13</td>\n",
       "      <td>4</td>\n",
       "      <td>1</td>\n",
       "      <td>4</td>\n",
       "      <td>22</td>\n",
       "      <td>1</td>\n",
       "      <td>0</td>\n",
       "      <td>22</td>\n",
       "      <td>2</td>\n",
       "      <td>2</td>\n",
       "      <td>9</td>\n",
       "      <td>9</td>\n",
       "      <td>1</td>\n",
       "      <td>1</td>\n",
       "    </tr>\n",
       "    <tr>\n",
       "      <th>2018-02-26 00:00:00</th>\n",
       "      <td>17</td>\n",
       "      <td>2</td>\n",
       "      <td>5</td>\n",
       "      <td>1</td>\n",
       "      <td>6</td>\n",
       "      <td>0</td>\n",
       "      <td>0</td>\n",
       "      <td>3</td>\n",
       "      <td>1</td>\n",
       "      <td>4</td>\n",
       "      <td>3</td>\n",
       "      <td>3</td>\n",
       "      <td>0</td>\n",
       "      <td>3</td>\n",
       "    </tr>\n",
       "    <tr>\n",
       "      <th>2018-02-26 12:00:00</th>\n",
       "      <td>16</td>\n",
       "      <td>2</td>\n",
       "      <td>3</td>\n",
       "      <td>0</td>\n",
       "      <td>7</td>\n",
       "      <td>2</td>\n",
       "      <td>5</td>\n",
       "      <td>1</td>\n",
       "      <td>1</td>\n",
       "      <td>12</td>\n",
       "      <td>7</td>\n",
       "      <td>7</td>\n",
       "      <td>5</td>\n",
       "      <td>1</td>\n",
       "    </tr>\n",
       "    <tr>\n",
       "      <th>2018-02-27 00:00:00</th>\n",
       "      <td>6</td>\n",
       "      <td>2</td>\n",
       "      <td>2</td>\n",
       "      <td>0</td>\n",
       "      <td>8</td>\n",
       "      <td>0</td>\n",
       "      <td>7</td>\n",
       "      <td>2</td>\n",
       "      <td>1</td>\n",
       "      <td>10</td>\n",
       "      <td>7</td>\n",
       "      <td>7</td>\n",
       "      <td>1</td>\n",
       "      <td>7</td>\n",
       "    </tr>\n",
       "    <tr>\n",
       "      <th>2018-02-27 12:00:00</th>\n",
       "      <td>19</td>\n",
       "      <td>1</td>\n",
       "      <td>1</td>\n",
       "      <td>0</td>\n",
       "      <td>6</td>\n",
       "      <td>1</td>\n",
       "      <td>4</td>\n",
       "      <td>1</td>\n",
       "      <td>1</td>\n",
       "      <td>3</td>\n",
       "      <td>10</td>\n",
       "      <td>10</td>\n",
       "      <td>1</td>\n",
       "      <td>5</td>\n",
       "    </tr>\n",
       "    <tr>\n",
       "      <th>2018-02-28 00:00:00</th>\n",
       "      <td>14</td>\n",
       "      <td>0</td>\n",
       "      <td>1</td>\n",
       "      <td>0</td>\n",
       "      <td>5</td>\n",
       "      <td>0</td>\n",
       "      <td>5</td>\n",
       "      <td>0</td>\n",
       "      <td>1</td>\n",
       "      <td>1</td>\n",
       "      <td>7</td>\n",
       "      <td>7</td>\n",
       "      <td>0</td>\n",
       "      <td>3</td>\n",
       "    </tr>\n",
       "    <tr>\n",
       "      <th>2018-02-28 12:00:00</th>\n",
       "      <td>15</td>\n",
       "      <td>4</td>\n",
       "      <td>1</td>\n",
       "      <td>1</td>\n",
       "      <td>3</td>\n",
       "      <td>2</td>\n",
       "      <td>0</td>\n",
       "      <td>1</td>\n",
       "      <td>0</td>\n",
       "      <td>1</td>\n",
       "      <td>1</td>\n",
       "      <td>1</td>\n",
       "      <td>4</td>\n",
       "      <td>2</td>\n",
       "    </tr>\n",
       "    <tr>\n",
       "      <th>2018-03-01 00:00:00</th>\n",
       "      <td>7</td>\n",
       "      <td>2</td>\n",
       "      <td>1</td>\n",
       "      <td>0</td>\n",
       "      <td>3</td>\n",
       "      <td>1</td>\n",
       "      <td>1</td>\n",
       "      <td>0</td>\n",
       "      <td>1</td>\n",
       "      <td>2</td>\n",
       "      <td>2</td>\n",
       "      <td>2</td>\n",
       "      <td>1</td>\n",
       "      <td>2</td>\n",
       "    </tr>\n",
       "    <tr>\n",
       "      <th>2018-03-01 12:00:00</th>\n",
       "      <td>15</td>\n",
       "      <td>3</td>\n",
       "      <td>12</td>\n",
       "      <td>0</td>\n",
       "      <td>0</td>\n",
       "      <td>2</td>\n",
       "      <td>3</td>\n",
       "      <td>0</td>\n",
       "      <td>0</td>\n",
       "      <td>8</td>\n",
       "      <td>2</td>\n",
       "      <td>2</td>\n",
       "      <td>1</td>\n",
       "      <td>3</td>\n",
       "    </tr>\n",
       "    <tr>\n",
       "      <th>2018-03-02 00:00:00</th>\n",
       "      <td>18</td>\n",
       "      <td>0</td>\n",
       "      <td>1</td>\n",
       "      <td>0</td>\n",
       "      <td>1</td>\n",
       "      <td>0</td>\n",
       "      <td>2</td>\n",
       "      <td>0</td>\n",
       "      <td>1</td>\n",
       "      <td>3</td>\n",
       "      <td>1</td>\n",
       "      <td>1</td>\n",
       "      <td>1</td>\n",
       "      <td>1</td>\n",
       "    </tr>\n",
       "    <tr>\n",
       "      <th>2018-03-03 00:00:00</th>\n",
       "      <td>9</td>\n",
       "      <td>0</td>\n",
       "      <td>2</td>\n",
       "      <td>1</td>\n",
       "      <td>2</td>\n",
       "      <td>0</td>\n",
       "      <td>0</td>\n",
       "      <td>3</td>\n",
       "      <td>0</td>\n",
       "      <td>0</td>\n",
       "      <td>4</td>\n",
       "      <td>4</td>\n",
       "      <td>1</td>\n",
       "      <td>1</td>\n",
       "    </tr>\n",
       "    <tr>\n",
       "      <th>2018-03-04 00:00:00</th>\n",
       "      <td>9</td>\n",
       "      <td>2</td>\n",
       "      <td>0</td>\n",
       "      <td>2</td>\n",
       "      <td>6</td>\n",
       "      <td>1</td>\n",
       "      <td>0</td>\n",
       "      <td>0</td>\n",
       "      <td>1</td>\n",
       "      <td>4</td>\n",
       "      <td>3</td>\n",
       "      <td>3</td>\n",
       "      <td>1</td>\n",
       "      <td>1</td>\n",
       "    </tr>\n",
       "    <tr>\n",
       "      <th>2018-03-05 00:00:00</th>\n",
       "      <td>32</td>\n",
       "      <td>0</td>\n",
       "      <td>0</td>\n",
       "      <td>0</td>\n",
       "      <td>1</td>\n",
       "      <td>1</td>\n",
       "      <td>0</td>\n",
       "      <td>0</td>\n",
       "      <td>1</td>\n",
       "      <td>0</td>\n",
       "      <td>3</td>\n",
       "      <td>3</td>\n",
       "      <td>1</td>\n",
       "      <td>0</td>\n",
       "    </tr>\n",
       "    <tr>\n",
       "      <th>2018-03-06 00:00:00</th>\n",
       "      <td>13</td>\n",
       "      <td>0</td>\n",
       "      <td>1</td>\n",
       "      <td>0</td>\n",
       "      <td>2</td>\n",
       "      <td>0</td>\n",
       "      <td>2</td>\n",
       "      <td>0</td>\n",
       "      <td>0</td>\n",
       "      <td>1</td>\n",
       "      <td>4</td>\n",
       "      <td>4</td>\n",
       "      <td>0</td>\n",
       "      <td>4</td>\n",
       "    </tr>\n",
       "    <tr>\n",
       "      <th>2018-03-07 00:00:00</th>\n",
       "      <td>18</td>\n",
       "      <td>1</td>\n",
       "      <td>3</td>\n",
       "      <td>0</td>\n",
       "      <td>3</td>\n",
       "      <td>2</td>\n",
       "      <td>0</td>\n",
       "      <td>0</td>\n",
       "      <td>3</td>\n",
       "      <td>1</td>\n",
       "      <td>4</td>\n",
       "      <td>4</td>\n",
       "      <td>3</td>\n",
       "      <td>3</td>\n",
       "    </tr>\n",
       "    <tr>\n",
       "      <th>2018-03-08 00:00:00</th>\n",
       "      <td>20</td>\n",
       "      <td>2</td>\n",
       "      <td>3</td>\n",
       "      <td>1</td>\n",
       "      <td>2</td>\n",
       "      <td>0</td>\n",
       "      <td>0</td>\n",
       "      <td>0</td>\n",
       "      <td>1</td>\n",
       "      <td>0</td>\n",
       "      <td>5</td>\n",
       "      <td>5</td>\n",
       "      <td>2</td>\n",
       "      <td>1</td>\n",
       "    </tr>\n",
       "    <tr>\n",
       "      <th>2018-03-09 00:00:00</th>\n",
       "      <td>18</td>\n",
       "      <td>0</td>\n",
       "      <td>0</td>\n",
       "      <td>1</td>\n",
       "      <td>24</td>\n",
       "      <td>0</td>\n",
       "      <td>0</td>\n",
       "      <td>0</td>\n",
       "      <td>1</td>\n",
       "      <td>0</td>\n",
       "      <td>2</td>\n",
       "      <td>2</td>\n",
       "      <td>0</td>\n",
       "      <td>3</td>\n",
       "    </tr>\n",
       "    <tr>\n",
       "      <th>2018-03-10 00:00:00</th>\n",
       "      <td>10</td>\n",
       "      <td>0</td>\n",
       "      <td>0</td>\n",
       "      <td>2</td>\n",
       "      <td>34</td>\n",
       "      <td>1</td>\n",
       "      <td>0</td>\n",
       "      <td>1</td>\n",
       "      <td>0</td>\n",
       "      <td>1</td>\n",
       "      <td>2</td>\n",
       "      <td>2</td>\n",
       "      <td>0</td>\n",
       "      <td>6</td>\n",
       "    </tr>\n",
       "    <tr>\n",
       "      <th>2018-03-11 00:00:00</th>\n",
       "      <td>2</td>\n",
       "      <td>1</td>\n",
       "      <td>0</td>\n",
       "      <td>0</td>\n",
       "      <td>6</td>\n",
       "      <td>1</td>\n",
       "      <td>1</td>\n",
       "      <td>1</td>\n",
       "      <td>1</td>\n",
       "      <td>0</td>\n",
       "      <td>0</td>\n",
       "      <td>0</td>\n",
       "      <td>1</td>\n",
       "      <td>0</td>\n",
       "    </tr>\n",
       "    <tr>\n",
       "      <th>2018-03-12 00:00:00</th>\n",
       "      <td>6</td>\n",
       "      <td>0</td>\n",
       "      <td>0</td>\n",
       "      <td>1</td>\n",
       "      <td>3</td>\n",
       "      <td>0</td>\n",
       "      <td>0</td>\n",
       "      <td>0</td>\n",
       "      <td>1</td>\n",
       "      <td>1</td>\n",
       "      <td>0</td>\n",
       "      <td>0</td>\n",
       "      <td>0</td>\n",
       "      <td>0</td>\n",
       "    </tr>\n",
       "    <tr>\n",
       "      <th>2018-03-13 00:00:00</th>\n",
       "      <td>12</td>\n",
       "      <td>4</td>\n",
       "      <td>1</td>\n",
       "      <td>0</td>\n",
       "      <td>2</td>\n",
       "      <td>0</td>\n",
       "      <td>4</td>\n",
       "      <td>0</td>\n",
       "      <td>1</td>\n",
       "      <td>0</td>\n",
       "      <td>0</td>\n",
       "      <td>0</td>\n",
       "      <td>0</td>\n",
       "      <td>1</td>\n",
       "    </tr>\n",
       "    <tr>\n",
       "      <th>2018-03-14 00:00:00</th>\n",
       "      <td>21</td>\n",
       "      <td>2</td>\n",
       "      <td>3</td>\n",
       "      <td>1</td>\n",
       "      <td>8</td>\n",
       "      <td>0</td>\n",
       "      <td>6</td>\n",
       "      <td>0</td>\n",
       "      <td>0</td>\n",
       "      <td>0</td>\n",
       "      <td>2</td>\n",
       "      <td>1</td>\n",
       "      <td>0</td>\n",
       "      <td>3</td>\n",
       "    </tr>\n",
       "    <tr>\n",
       "      <th>2018-03-15 00:00:00</th>\n",
       "      <td>16</td>\n",
       "      <td>2</td>\n",
       "      <td>0</td>\n",
       "      <td>0</td>\n",
       "      <td>4</td>\n",
       "      <td>0</td>\n",
       "      <td>2</td>\n",
       "      <td>0</td>\n",
       "      <td>0</td>\n",
       "      <td>0</td>\n",
       "      <td>3</td>\n",
       "      <td>1</td>\n",
       "      <td>0</td>\n",
       "      <td>6</td>\n",
       "    </tr>\n",
       "    <tr>\n",
       "      <th>2018-03-16 00:00:00</th>\n",
       "      <td>1</td>\n",
       "      <td>0</td>\n",
       "      <td>1</td>\n",
       "      <td>0</td>\n",
       "      <td>2</td>\n",
       "      <td>0</td>\n",
       "      <td>0</td>\n",
       "      <td>0</td>\n",
       "      <td>1</td>\n",
       "      <td>0</td>\n",
       "      <td>2</td>\n",
       "      <td>2</td>\n",
       "      <td>2</td>\n",
       "      <td>0</td>\n",
       "    </tr>\n",
       "    <tr>\n",
       "      <th>2018-03-17 00:00:00</th>\n",
       "      <td>4</td>\n",
       "      <td>0</td>\n",
       "      <td>0</td>\n",
       "      <td>0</td>\n",
       "      <td>2</td>\n",
       "      <td>0</td>\n",
       "      <td>2</td>\n",
       "      <td>0</td>\n",
       "      <td>0</td>\n",
       "      <td>0</td>\n",
       "      <td>3</td>\n",
       "      <td>3</td>\n",
       "      <td>2</td>\n",
       "      <td>3</td>\n",
       "    </tr>\n",
       "    <tr>\n",
       "      <th>2018-03-18 00:00:00</th>\n",
       "      <td>7</td>\n",
       "      <td>0</td>\n",
       "      <td>0</td>\n",
       "      <td>1</td>\n",
       "      <td>3</td>\n",
       "      <td>0</td>\n",
       "      <td>2</td>\n",
       "      <td>0</td>\n",
       "      <td>0</td>\n",
       "      <td>0</td>\n",
       "      <td>1</td>\n",
       "      <td>1</td>\n",
       "      <td>0</td>\n",
       "      <td>8</td>\n",
       "    </tr>\n",
       "    <tr>\n",
       "      <th>2018-03-19 00:00:00</th>\n",
       "      <td>13</td>\n",
       "      <td>0</td>\n",
       "      <td>0</td>\n",
       "      <td>0</td>\n",
       "      <td>2</td>\n",
       "      <td>1</td>\n",
       "      <td>1</td>\n",
       "      <td>0</td>\n",
       "      <td>1</td>\n",
       "      <td>0</td>\n",
       "      <td>2</td>\n",
       "      <td>2</td>\n",
       "      <td>1</td>\n",
       "      <td>2</td>\n",
       "    </tr>\n",
       "    <tr>\n",
       "      <th>2018-03-20 00:00:00</th>\n",
       "      <td>6</td>\n",
       "      <td>0</td>\n",
       "      <td>2</td>\n",
       "      <td>0</td>\n",
       "      <td>6</td>\n",
       "      <td>0</td>\n",
       "      <td>7</td>\n",
       "      <td>0</td>\n",
       "      <td>1</td>\n",
       "      <td>0</td>\n",
       "      <td>1</td>\n",
       "      <td>1</td>\n",
       "      <td>3</td>\n",
       "      <td>1</td>\n",
       "    </tr>\n",
       "    <tr>\n",
       "      <th>2018-03-21 00:00:00</th>\n",
       "      <td>12</td>\n",
       "      <td>1</td>\n",
       "      <td>3</td>\n",
       "      <td>3</td>\n",
       "      <td>1</td>\n",
       "      <td>0</td>\n",
       "      <td>2</td>\n",
       "      <td>0</td>\n",
       "      <td>0</td>\n",
       "      <td>1</td>\n",
       "      <td>9</td>\n",
       "      <td>8</td>\n",
       "      <td>0</td>\n",
       "      <td>4</td>\n",
       "    </tr>\n",
       "    <tr>\n",
       "      <th>2018-03-22 00:00:00</th>\n",
       "      <td>5</td>\n",
       "      <td>3</td>\n",
       "      <td>0</td>\n",
       "      <td>14</td>\n",
       "      <td>4</td>\n",
       "      <td>2</td>\n",
       "      <td>2</td>\n",
       "      <td>0</td>\n",
       "      <td>4</td>\n",
       "      <td>0</td>\n",
       "      <td>2</td>\n",
       "      <td>2</td>\n",
       "      <td>1</td>\n",
       "      <td>1</td>\n",
       "    </tr>\n",
       "    <tr>\n",
       "      <th>2018-03-23 00:00:00</th>\n",
       "      <td>9</td>\n",
       "      <td>0</td>\n",
       "      <td>0</td>\n",
       "      <td>7</td>\n",
       "      <td>1</td>\n",
       "      <td>0</td>\n",
       "      <td>2</td>\n",
       "      <td>0</td>\n",
       "      <td>0</td>\n",
       "      <td>0</td>\n",
       "      <td>2</td>\n",
       "      <td>2</td>\n",
       "      <td>0</td>\n",
       "      <td>1</td>\n",
       "    </tr>\n",
       "    <tr>\n",
       "      <th>2018-03-24 00:00:00</th>\n",
       "      <td>17</td>\n",
       "      <td>2</td>\n",
       "      <td>1</td>\n",
       "      <td>109</td>\n",
       "      <td>8</td>\n",
       "      <td>3</td>\n",
       "      <td>2</td>\n",
       "      <td>4</td>\n",
       "      <td>1</td>\n",
       "      <td>0</td>\n",
       "      <td>0</td>\n",
       "      <td>0</td>\n",
       "      <td>1</td>\n",
       "      <td>4</td>\n",
       "    </tr>\n",
       "    <tr>\n",
       "      <th>2018-03-25 00:00:00</th>\n",
       "      <td>13</td>\n",
       "      <td>0</td>\n",
       "      <td>2</td>\n",
       "      <td>53</td>\n",
       "      <td>6</td>\n",
       "      <td>0</td>\n",
       "      <td>3</td>\n",
       "      <td>1</td>\n",
       "      <td>0</td>\n",
       "      <td>2</td>\n",
       "      <td>3</td>\n",
       "      <td>3</td>\n",
       "      <td>0</td>\n",
       "      <td>6</td>\n",
       "    </tr>\n",
       "    <tr>\n",
       "      <th>2018-03-26 00:00:00</th>\n",
       "      <td>14</td>\n",
       "      <td>2</td>\n",
       "      <td>1</td>\n",
       "      <td>16</td>\n",
       "      <td>1</td>\n",
       "      <td>1</td>\n",
       "      <td>2</td>\n",
       "      <td>0</td>\n",
       "      <td>1</td>\n",
       "      <td>1</td>\n",
       "      <td>0</td>\n",
       "      <td>0</td>\n",
       "      <td>0</td>\n",
       "      <td>2</td>\n",
       "    </tr>\n",
       "    <tr>\n",
       "      <th>2018-03-27 00:00:00</th>\n",
       "      <td>13</td>\n",
       "      <td>1</td>\n",
       "      <td>0</td>\n",
       "      <td>10</td>\n",
       "      <td>2</td>\n",
       "      <td>3</td>\n",
       "      <td>3</td>\n",
       "      <td>0</td>\n",
       "      <td>1</td>\n",
       "      <td>1</td>\n",
       "      <td>0</td>\n",
       "      <td>0</td>\n",
       "      <td>0</td>\n",
       "      <td>10</td>\n",
       "    </tr>\n",
       "    <tr>\n",
       "      <th>2018-03-28 00:00:00</th>\n",
       "      <td>3</td>\n",
       "      <td>2</td>\n",
       "      <td>0</td>\n",
       "      <td>9</td>\n",
       "      <td>4</td>\n",
       "      <td>0</td>\n",
       "      <td>2</td>\n",
       "      <td>0</td>\n",
       "      <td>0</td>\n",
       "      <td>0</td>\n",
       "      <td>0</td>\n",
       "      <td>0</td>\n",
       "      <td>1</td>\n",
       "      <td>4</td>\n",
       "    </tr>\n",
       "    <tr>\n",
       "      <th>2018-03-29 00:00:00</th>\n",
       "      <td>4</td>\n",
       "      <td>3</td>\n",
       "      <td>1</td>\n",
       "      <td>3</td>\n",
       "      <td>1</td>\n",
       "      <td>0</td>\n",
       "      <td>1</td>\n",
       "      <td>0</td>\n",
       "      <td>0</td>\n",
       "      <td>0</td>\n",
       "      <td>0</td>\n",
       "      <td>0</td>\n",
       "      <td>3</td>\n",
       "      <td>0</td>\n",
       "    </tr>\n",
       "    <tr>\n",
       "      <th>2018-03-30 00:00:00</th>\n",
       "      <td>2</td>\n",
       "      <td>4</td>\n",
       "      <td>0</td>\n",
       "      <td>0</td>\n",
       "      <td>3</td>\n",
       "      <td>0</td>\n",
       "      <td>0</td>\n",
       "      <td>0</td>\n",
       "      <td>0</td>\n",
       "      <td>0</td>\n",
       "      <td>0</td>\n",
       "      <td>0</td>\n",
       "      <td>0</td>\n",
       "      <td>0</td>\n",
       "    </tr>\n",
       "    <tr>\n",
       "      <th>2018-03-31 00:00:00</th>\n",
       "      <td>4</td>\n",
       "      <td>1</td>\n",
       "      <td>0</td>\n",
       "      <td>2</td>\n",
       "      <td>1</td>\n",
       "      <td>0</td>\n",
       "      <td>2</td>\n",
       "      <td>0</td>\n",
       "      <td>1</td>\n",
       "      <td>2</td>\n",
       "      <td>0</td>\n",
       "      <td>0</td>\n",
       "      <td>0</td>\n",
       "      <td>1</td>\n",
       "    </tr>\n",
       "  </tbody>\n",
       "</table>\n",
       "</div>"
      ],
      "text/plain": [
       "                     nra  guncontrol  florida  marchforourlives  neveragain  \\\n",
       "pd_datetime                                                                   \n",
       "2018-02-14 12:00:00    6          16       48                 0           0   \n",
       "2018-02-15 00:00:00   10          80       93                 0           0   \n",
       "2018-02-15 12:00:00   15          63       60                 0           0   \n",
       "2018-02-16 00:00:00    6          18       22                 0           0   \n",
       "2018-02-16 12:00:00    6          42        8                 0           0   \n",
       "2018-02-17 00:00:00    1          66        9                 0           0   \n",
       "2018-02-17 12:00:00    4          58       19                 0           2   \n",
       "2018-02-18 00:00:00    6          20       13                 0           2   \n",
       "2018-02-18 12:00:00   11          16        8                 4           4   \n",
       "2018-02-19 00:00:00    6           9       12                 7           7   \n",
       "2018-02-19 12:00:00   10          35        4                 2           4   \n",
       "2018-02-20 00:00:00   33          16       25                10          12   \n",
       "2018-02-21 00:00:00   37           9       20                14          17   \n",
       "2018-02-22 00:00:00   68           9        8                14          13   \n",
       "2018-02-23 00:00:00   47           7        7                 4          11   \n",
       "2018-02-24 00:00:00   37           8        4                 5          21   \n",
       "2018-02-24 12:00:00   22           5        2                 3          17   \n",
       "2018-02-25 00:00:00    6           2        1                 4           5   \n",
       "2018-02-25 12:00:00   13           4        1                 4          22   \n",
       "2018-02-26 00:00:00   17           2        5                 1           6   \n",
       "2018-02-26 12:00:00   16           2        3                 0           7   \n",
       "2018-02-27 00:00:00    6           2        2                 0           8   \n",
       "2018-02-27 12:00:00   19           1        1                 0           6   \n",
       "2018-02-28 00:00:00   14           0        1                 0           5   \n",
       "2018-02-28 12:00:00   15           4        1                 1           3   \n",
       "2018-03-01 00:00:00    7           2        1                 0           3   \n",
       "2018-03-01 12:00:00   15           3       12                 0           0   \n",
       "2018-03-02 00:00:00   18           0        1                 0           1   \n",
       "2018-03-03 00:00:00    9           0        2                 1           2   \n",
       "2018-03-04 00:00:00    9           2        0                 2           6   \n",
       "2018-03-05 00:00:00   32           0        0                 0           1   \n",
       "2018-03-06 00:00:00   13           0        1                 0           2   \n",
       "2018-03-07 00:00:00   18           1        3                 0           3   \n",
       "2018-03-08 00:00:00   20           2        3                 1           2   \n",
       "2018-03-09 00:00:00   18           0        0                 1          24   \n",
       "2018-03-10 00:00:00   10           0        0                 2          34   \n",
       "2018-03-11 00:00:00    2           1        0                 0           6   \n",
       "2018-03-12 00:00:00    6           0        0                 1           3   \n",
       "2018-03-13 00:00:00   12           4        1                 0           2   \n",
       "2018-03-14 00:00:00   21           2        3                 1           8   \n",
       "2018-03-15 00:00:00   16           2        0                 0           4   \n",
       "2018-03-16 00:00:00    1           0        1                 0           2   \n",
       "2018-03-17 00:00:00    4           0        0                 0           2   \n",
       "2018-03-18 00:00:00    7           0        0                 1           3   \n",
       "2018-03-19 00:00:00   13           0        0                 0           2   \n",
       "2018-03-20 00:00:00    6           0        2                 0           6   \n",
       "2018-03-21 00:00:00   12           1        3                 3           1   \n",
       "2018-03-22 00:00:00    5           3        0                14           4   \n",
       "2018-03-23 00:00:00    9           0        0                 7           1   \n",
       "2018-03-24 00:00:00   17           2        1               109           8   \n",
       "2018-03-25 00:00:00   13           0        2                53           6   \n",
       "2018-03-26 00:00:00   14           2        1                16           1   \n",
       "2018-03-27 00:00:00   13           1        0                10           2   \n",
       "2018-03-28 00:00:00    3           2        0                 9           4   \n",
       "2018-03-29 00:00:00    4           3        1                 3           1   \n",
       "2018-03-30 00:00:00    2           4        0                 0           3   \n",
       "2018-03-31 00:00:00    4           1        0                 2           1   \n",
       "\n",
       "                     guncontrolnow  maga  america  gunreformnow  \\\n",
       "pd_datetime                                                       \n",
       "2018-02-14 12:00:00             40     1        1             0   \n",
       "2018-02-15 00:00:00             53    22        4             3   \n",
       "2018-02-15 12:00:00             34    25        0            43   \n",
       "2018-02-16 00:00:00             16    18        0            22   \n",
       "2018-02-16 12:00:00             17    17        0            21   \n",
       "2018-02-17 00:00:00              6     1        0            10   \n",
       "2018-02-17 12:00:00             26    11        0            11   \n",
       "2018-02-18 00:00:00              8     7        1             6   \n",
       "2018-02-18 12:00:00              4     4        0             6   \n",
       "2018-02-19 00:00:00              0     0        0             5   \n",
       "2018-02-19 12:00:00              1     0        0             4   \n",
       "2018-02-20 00:00:00              1     4        0            10   \n",
       "2018-02-21 00:00:00              2     5       22            19   \n",
       "2018-02-22 00:00:00              4    24       40            17   \n",
       "2018-02-23 00:00:00              2    11        6             9   \n",
       "2018-02-24 00:00:00              2     8       80             7   \n",
       "2018-02-24 12:00:00              2     6       66             5   \n",
       "2018-02-25 00:00:00              0     3       35             1   \n",
       "2018-02-25 12:00:00              1     0       22             2   \n",
       "2018-02-26 00:00:00              0     0        3             1   \n",
       "2018-02-26 12:00:00              2     5        1             1   \n",
       "2018-02-27 00:00:00              0     7        2             1   \n",
       "2018-02-27 12:00:00              1     4        1             1   \n",
       "2018-02-28 00:00:00              0     5        0             1   \n",
       "2018-02-28 12:00:00              2     0        1             0   \n",
       "2018-03-01 00:00:00              1     1        0             1   \n",
       "2018-03-01 12:00:00              2     3        0             0   \n",
       "2018-03-02 00:00:00              0     2        0             1   \n",
       "2018-03-03 00:00:00              0     0        3             0   \n",
       "2018-03-04 00:00:00              1     0        0             1   \n",
       "2018-03-05 00:00:00              1     0        0             1   \n",
       "2018-03-06 00:00:00              0     2        0             0   \n",
       "2018-03-07 00:00:00              2     0        0             3   \n",
       "2018-03-08 00:00:00              0     0        0             1   \n",
       "2018-03-09 00:00:00              0     0        0             1   \n",
       "2018-03-10 00:00:00              1     0        1             0   \n",
       "2018-03-11 00:00:00              1     1        1             1   \n",
       "2018-03-12 00:00:00              0     0        0             1   \n",
       "2018-03-13 00:00:00              0     4        0             1   \n",
       "2018-03-14 00:00:00              0     6        0             0   \n",
       "2018-03-15 00:00:00              0     2        0             0   \n",
       "2018-03-16 00:00:00              0     0        0             1   \n",
       "2018-03-17 00:00:00              0     2        0             0   \n",
       "2018-03-18 00:00:00              0     2        0             0   \n",
       "2018-03-19 00:00:00              1     1        0             1   \n",
       "2018-03-20 00:00:00              0     7        0             1   \n",
       "2018-03-21 00:00:00              0     2        0             0   \n",
       "2018-03-22 00:00:00              2     2        0             4   \n",
       "2018-03-23 00:00:00              0     2        0             0   \n",
       "2018-03-24 00:00:00              3     2        4             1   \n",
       "2018-03-25 00:00:00              0     3        1             0   \n",
       "2018-03-26 00:00:00              1     2        0             1   \n",
       "2018-03-27 00:00:00              3     3        0             1   \n",
       "2018-03-28 00:00:00              0     2        0             0   \n",
       "2018-03-29 00:00:00              0     1        0             0   \n",
       "2018-03-30 00:00:00              0     0        0             0   \n",
       "2018-03-31 00:00:00              0     2        0             1   \n",
       "\n",
       "                     parklandshooting  leftistsedition  leftistterrorism  \\\n",
       "pd_datetime                                                                \n",
       "2018-02-14 12:00:00                 8                0                 0   \n",
       "2018-02-15 00:00:00                23                0                 0   \n",
       "2018-02-15 12:00:00                22                0                 0   \n",
       "2018-02-16 00:00:00                 8                2                 2   \n",
       "2018-02-16 12:00:00                10                1                 1   \n",
       "2018-02-17 00:00:00                 4                0                 0   \n",
       "2018-02-17 12:00:00                 4                0                 0   \n",
       "2018-02-18 00:00:00                 1                0                 0   \n",
       "2018-02-18 12:00:00                 3                2                 2   \n",
       "2018-02-19 00:00:00                 0                3                 3   \n",
       "2018-02-19 12:00:00                 2                2                 2   \n",
       "2018-02-20 00:00:00                11                7                 7   \n",
       "2018-02-21 00:00:00                 4                6                 6   \n",
       "2018-02-22 00:00:00                 7                7                 7   \n",
       "2018-02-23 00:00:00                 6                8                 8   \n",
       "2018-02-24 00:00:00                 1               20                20   \n",
       "2018-02-24 12:00:00                 1                7                 7   \n",
       "2018-02-25 00:00:00                 4               11                11   \n",
       "2018-02-25 12:00:00                 2                9                 9   \n",
       "2018-02-26 00:00:00                 4                3                 3   \n",
       "2018-02-26 12:00:00                12                7                 7   \n",
       "2018-02-27 00:00:00                10                7                 7   \n",
       "2018-02-27 12:00:00                 3               10                10   \n",
       "2018-02-28 00:00:00                 1                7                 7   \n",
       "2018-02-28 12:00:00                 1                1                 1   \n",
       "2018-03-01 00:00:00                 2                2                 2   \n",
       "2018-03-01 12:00:00                 8                2                 2   \n",
       "2018-03-02 00:00:00                 3                1                 1   \n",
       "2018-03-03 00:00:00                 0                4                 4   \n",
       "2018-03-04 00:00:00                 4                3                 3   \n",
       "2018-03-05 00:00:00                 0                3                 3   \n",
       "2018-03-06 00:00:00                 1                4                 4   \n",
       "2018-03-07 00:00:00                 1                4                 4   \n",
       "2018-03-08 00:00:00                 0                5                 5   \n",
       "2018-03-09 00:00:00                 0                2                 2   \n",
       "2018-03-10 00:00:00                 1                2                 2   \n",
       "2018-03-11 00:00:00                 0                0                 0   \n",
       "2018-03-12 00:00:00                 1                0                 0   \n",
       "2018-03-13 00:00:00                 0                0                 0   \n",
       "2018-03-14 00:00:00                 0                2                 1   \n",
       "2018-03-15 00:00:00                 0                3                 1   \n",
       "2018-03-16 00:00:00                 0                2                 2   \n",
       "2018-03-17 00:00:00                 0                3                 3   \n",
       "2018-03-18 00:00:00                 0                1                 1   \n",
       "2018-03-19 00:00:00                 0                2                 2   \n",
       "2018-03-20 00:00:00                 0                1                 1   \n",
       "2018-03-21 00:00:00                 1                9                 8   \n",
       "2018-03-22 00:00:00                 0                2                 2   \n",
       "2018-03-23 00:00:00                 0                2                 2   \n",
       "2018-03-24 00:00:00                 0                0                 0   \n",
       "2018-03-25 00:00:00                 2                3                 3   \n",
       "2018-03-26 00:00:00                 1                0                 0   \n",
       "2018-03-27 00:00:00                 1                0                 0   \n",
       "2018-03-28 00:00:00                 0                0                 0   \n",
       "2018-03-29 00:00:00                 0                0                 0   \n",
       "2018-03-30 00:00:00                 0                0                 0   \n",
       "2018-03-31 00:00:00                 2                0                 0   \n",
       "\n",
       "                     trump  2a  \n",
       "pd_datetime                     \n",
       "2018-02-14 12:00:00      1   0  \n",
       "2018-02-15 00:00:00     21   1  \n",
       "2018-02-15 12:00:00     18   3  \n",
       "2018-02-16 00:00:00      6   0  \n",
       "2018-02-16 12:00:00      5   1  \n",
       "2018-02-17 00:00:00      0   0  \n",
       "2018-02-17 12:00:00      0   1  \n",
       "2018-02-18 00:00:00      7   1  \n",
       "2018-02-18 12:00:00      3   2  \n",
       "2018-02-19 00:00:00      1   0  \n",
       "2018-02-19 12:00:00      2   1  \n",
       "2018-02-20 00:00:00      6   3  \n",
       "2018-02-21 00:00:00      3   4  \n",
       "2018-02-22 00:00:00     18   2  \n",
       "2018-02-23 00:00:00      9   1  \n",
       "2018-02-24 00:00:00      3   5  \n",
       "2018-02-24 12:00:00      2   3  \n",
       "2018-02-25 00:00:00      0   1  \n",
       "2018-02-25 12:00:00      1   1  \n",
       "2018-02-26 00:00:00      0   3  \n",
       "2018-02-26 12:00:00      5   1  \n",
       "2018-02-27 00:00:00      1   7  \n",
       "2018-02-27 12:00:00      1   5  \n",
       "2018-02-28 00:00:00      0   3  \n",
       "2018-02-28 12:00:00      4   2  \n",
       "2018-03-01 00:00:00      1   2  \n",
       "2018-03-01 12:00:00      1   3  \n",
       "2018-03-02 00:00:00      1   1  \n",
       "2018-03-03 00:00:00      1   1  \n",
       "2018-03-04 00:00:00      1   1  \n",
       "2018-03-05 00:00:00      1   0  \n",
       "2018-03-06 00:00:00      0   4  \n",
       "2018-03-07 00:00:00      3   3  \n",
       "2018-03-08 00:00:00      2   1  \n",
       "2018-03-09 00:00:00      0   3  \n",
       "2018-03-10 00:00:00      0   6  \n",
       "2018-03-11 00:00:00      1   0  \n",
       "2018-03-12 00:00:00      0   0  \n",
       "2018-03-13 00:00:00      0   1  \n",
       "2018-03-14 00:00:00      0   3  \n",
       "2018-03-15 00:00:00      0   6  \n",
       "2018-03-16 00:00:00      2   0  \n",
       "2018-03-17 00:00:00      2   3  \n",
       "2018-03-18 00:00:00      0   8  \n",
       "2018-03-19 00:00:00      1   2  \n",
       "2018-03-20 00:00:00      3   1  \n",
       "2018-03-21 00:00:00      0   4  \n",
       "2018-03-22 00:00:00      1   1  \n",
       "2018-03-23 00:00:00      0   1  \n",
       "2018-03-24 00:00:00      1   4  \n",
       "2018-03-25 00:00:00      0   6  \n",
       "2018-03-26 00:00:00      0   2  \n",
       "2018-03-27 00:00:00      0  10  \n",
       "2018-03-28 00:00:00      1   4  \n",
       "2018-03-29 00:00:00      3   0  \n",
       "2018-03-30 00:00:00      0   0  \n",
       "2018-03-31 00:00:00      0   1  "
      ]
     },
     "execution_count": 62,
     "metadata": {},
     "output_type": "execute_result"
    }
   ],
   "source": [
    "test_ser_df"
   ]
  },
  {
   "cell_type": "code",
   "execution_count": 63,
   "metadata": {},
   "outputs": [
    {
     "data": {
      "text/plain": [
       "<matplotlib.legend.Legend at 0x12305f470>"
      ]
     },
     "execution_count": 63,
     "metadata": {},
     "output_type": "execute_result"
    },
    {
     "data": {
      "image/png": "[encoded data removed]",
      "text/plain": [
       "<Figure size 720x360 with 1 Axes>"
      ]
     },
     "metadata": {
      "needs_background": "light"
     },
     "output_type": "display_data"
    }
   ],
   "source": [
    "# output time series as np.array()\n",
    "time_since = [(t-all_tweets_short.pd_datetime[0]).total_seconds()/(60**2) for t in time_ser_df.index]\n",
    "plt.figure(figsize = (10,5))\n",
    "for tag in top_tags:\n",
    "    time_ser_list.append(list(time_ser_df[tag]))\n",
    "    plt.plot(time_since, time_ser_df[tag], label = tag)\n",
    "plt.legend(bbox_to_anchor = (1, 0.25, 0.3, 0.7))"
   ]
  },
  {
   "cell_type": "code",
   "execution_count": 64,
   "metadata": {},
   "outputs": [],
   "source": [
    "time_series = np.array(time_ser_list)"
   ]
  },
  {
   "cell_type": "code",
   "execution_count": 65,
   "metadata": {},
   "outputs": [
    {
     "data": {
      "text/plain": [
       "57"
      ]
     },
     "execution_count": 65,
     "metadata": {},
     "output_type": "execute_result"
    }
   ],
   "source": [
    "len(time_series[0])"
   ]
  },
  {
   "cell_type": "code",
   "execution_count": 66,
   "metadata": {},
   "outputs": [],
   "source": [
    "arr_split = [len(short_1), len(short_1)+len(long_1), \n",
    "             len(short_1)+len(short_2)+len(long_1), \n",
    "            len(short_1)+len(short_2)+len(long_1) + 5,\n",
    "            len(short_1)+len(short_2)+len(long_1) + 10,\n",
    "            len(short_1)+len(short_2)+len(long_1) + 15,\n",
    "            len(short_1)+len(short_2)+len(long_1) + 20,\n",
    "            len(short_1)+len(short_2)+len(long_1) + 25]"
   ]
  },
  {
   "cell_type": "code",
   "execution_count": 67,
   "metadata": {},
   "outputs": [],
   "source": [
    "ts = np.split(time_series, arr_split, axis =1)"
   ]
  },
  {
   "cell_type": "code",
   "execution_count": 68,
   "metadata": {
    "scrolled": true
   },
   "outputs": [
    {
     "data": {
      "text/plain": [
       "[array([[ 6, 10, 15,  6,  6,  1,  4,  6, 11,  6, 10],\n",
       "        [16, 80, 63, 18, 42, 66, 58, 20, 16,  9, 35],\n",
       "        [48, 93, 60, 22,  8,  9, 19, 13,  8, 12,  4],\n",
       "        [ 0,  0,  0,  0,  0,  0,  0,  0,  4,  7,  2],\n",
       "        [ 0,  0,  0,  0,  0,  0,  2,  2,  4,  7,  4],\n",
       "        [40, 53, 34, 16, 17,  6, 26,  8,  4,  0,  1],\n",
       "        [ 1, 22, 25, 18, 17,  1, 11,  7,  4,  0,  0],\n",
       "        [ 1,  4,  0,  0,  0,  0,  0,  1,  0,  0,  0],\n",
       "        [ 0,  3, 43, 22, 21, 10, 11,  6,  6,  5,  4],\n",
       "        [ 8, 23, 22,  8, 10,  4,  4,  1,  3,  0,  2],\n",
       "        [ 0,  0,  0,  2,  1,  0,  0,  0,  2,  3,  2],\n",
       "        [ 0,  0,  0,  2,  1,  0,  0,  0,  2,  3,  2],\n",
       "        [ 1, 21, 18,  6,  5,  0,  0,  7,  3,  1,  2],\n",
       "        [ 0,  1,  3,  0,  1,  0,  1,  1,  2,  0,  1]]),\n",
       " array([[33, 37, 68, 47, 37],\n",
       "        [16,  9,  9,  7,  8],\n",
       "        [25, 20,  8,  7,  4],\n",
       "        [10, 14, 14,  4,  5],\n",
       "        [12, 17, 13, 11, 21],\n",
       "        [ 1,  2,  4,  2,  2],\n",
       "        [ 4,  5, 24, 11,  8],\n",
       "        [ 0, 22, 40,  6, 80],\n",
       "        [10, 19, 17,  9,  7],\n",
       "        [11,  4,  7,  6,  1],\n",
       "        [ 7,  6,  7,  8, 20],\n",
       "        [ 7,  6,  7,  8, 20],\n",
       "        [ 6,  3, 18,  9,  3],\n",
       "        [ 3,  4,  2,  1,  5]]),\n",
       " array([[22,  6, 13, 17, 16,  6, 19, 14, 15,  7, 15],\n",
       "        [ 5,  2,  4,  2,  2,  2,  1,  0,  4,  2,  3],\n",
       "        [ 2,  1,  1,  5,  3,  2,  1,  1,  1,  1, 12],\n",
       "        [ 3,  4,  4,  1,  0,  0,  0,  0,  1,  0,  0],\n",
       "        [17,  5, 22,  6,  7,  8,  6,  5,  3,  3,  0],\n",
       "        [ 2,  0,  1,  0,  2,  0,  1,  0,  2,  1,  2],\n",
       "        [ 6,  3,  0,  0,  5,  7,  4,  5,  0,  1,  3],\n",
       "        [66, 35, 22,  3,  1,  2,  1,  0,  1,  0,  0],\n",
       "        [ 5,  1,  2,  1,  1,  1,  1,  1,  0,  1,  0],\n",
       "        [ 1,  4,  2,  4, 12, 10,  3,  1,  1,  2,  8],\n",
       "        [ 7, 11,  9,  3,  7,  7, 10,  7,  1,  2,  2],\n",
       "        [ 7, 11,  9,  3,  7,  7, 10,  7,  1,  2,  2],\n",
       "        [ 2,  0,  1,  0,  5,  1,  1,  0,  4,  1,  1],\n",
       "        [ 3,  1,  1,  3,  1,  7,  5,  3,  2,  2,  3]]),\n",
       " array([[18,  9,  9, 32, 13],\n",
       "        [ 0,  0,  2,  0,  0],\n",
       "        [ 1,  2,  0,  0,  1],\n",
       "        [ 0,  1,  2,  0,  0],\n",
       "        [ 1,  2,  6,  1,  2],\n",
       "        [ 0,  0,  1,  1,  0],\n",
       "        [ 2,  0,  0,  0,  2],\n",
       "        [ 0,  3,  0,  0,  0],\n",
       "        [ 1,  0,  1,  1,  0],\n",
       "        [ 3,  0,  4,  0,  1],\n",
       "        [ 1,  4,  3,  3,  4],\n",
       "        [ 1,  4,  3,  3,  4],\n",
       "        [ 1,  1,  1,  1,  0],\n",
       "        [ 1,  1,  1,  0,  4]]),\n",
       " array([[18, 20, 18, 10,  2],\n",
       "        [ 1,  2,  0,  0,  1],\n",
       "        [ 3,  3,  0,  0,  0],\n",
       "        [ 0,  1,  1,  2,  0],\n",
       "        [ 3,  2, 24, 34,  6],\n",
       "        [ 2,  0,  0,  1,  1],\n",
       "        [ 0,  0,  0,  0,  1],\n",
       "        [ 0,  0,  0,  1,  1],\n",
       "        [ 3,  1,  1,  0,  1],\n",
       "        [ 1,  0,  0,  1,  0],\n",
       "        [ 4,  5,  2,  2,  0],\n",
       "        [ 4,  5,  2,  2,  0],\n",
       "        [ 3,  2,  0,  0,  1],\n",
       "        [ 3,  1,  3,  6,  0]]),\n",
       " array([[ 6, 12, 21, 16,  1],\n",
       "        [ 0,  4,  2,  2,  0],\n",
       "        [ 0,  1,  3,  0,  1],\n",
       "        [ 1,  0,  1,  0,  0],\n",
       "        [ 3,  2,  8,  4,  2],\n",
       "        [ 0,  0,  0,  0,  0],\n",
       "        [ 0,  4,  6,  2,  0],\n",
       "        [ 0,  0,  0,  0,  0],\n",
       "        [ 1,  1,  0,  0,  1],\n",
       "        [ 1,  0,  0,  0,  0],\n",
       "        [ 0,  0,  2,  3,  2],\n",
       "        [ 0,  0,  1,  1,  2],\n",
       "        [ 0,  0,  0,  0,  2],\n",
       "        [ 0,  1,  3,  6,  0]]),\n",
       " array([[ 4,  7, 13,  6, 12],\n",
       "        [ 0,  0,  0,  0,  1],\n",
       "        [ 0,  0,  0,  2,  3],\n",
       "        [ 0,  1,  0,  0,  3],\n",
       "        [ 2,  3,  2,  6,  1],\n",
       "        [ 0,  0,  1,  0,  0],\n",
       "        [ 2,  2,  1,  7,  2],\n",
       "        [ 0,  0,  0,  0,  0],\n",
       "        [ 0,  0,  1,  1,  0],\n",
       "        [ 0,  0,  0,  0,  1],\n",
       "        [ 3,  1,  2,  1,  9],\n",
       "        [ 3,  1,  2,  1,  8],\n",
       "        [ 2,  0,  1,  3,  0],\n",
       "        [ 3,  8,  2,  1,  4]]),\n",
       " array([[  5,   9,  17,  13,  14],\n",
       "        [  3,   0,   2,   0,   2],\n",
       "        [  0,   0,   1,   2,   1],\n",
       "        [ 14,   7, 109,  53,  16],\n",
       "        [  4,   1,   8,   6,   1],\n",
       "        [  2,   0,   3,   0,   1],\n",
       "        [  2,   2,   2,   3,   2],\n",
       "        [  0,   0,   4,   1,   0],\n",
       "        [  4,   0,   1,   0,   1],\n",
       "        [  0,   0,   0,   2,   1],\n",
       "        [  2,   2,   0,   3,   0],\n",
       "        [  2,   2,   0,   3,   0],\n",
       "        [  1,   0,   1,   0,   0],\n",
       "        [  1,   1,   4,   6,   2]]),\n",
       " array([[13,  3,  4,  2,  4],\n",
       "        [ 1,  2,  3,  4,  1],\n",
       "        [ 0,  0,  1,  0,  0],\n",
       "        [10,  9,  3,  0,  2],\n",
       "        [ 2,  4,  1,  3,  1],\n",
       "        [ 3,  0,  0,  0,  0],\n",
       "        [ 3,  2,  1,  0,  2],\n",
       "        [ 0,  0,  0,  0,  0],\n",
       "        [ 1,  0,  0,  0,  1],\n",
       "        [ 1,  0,  0,  0,  2],\n",
       "        [ 0,  0,  0,  0,  0],\n",
       "        [ 0,  0,  0,  0,  0],\n",
       "        [ 0,  1,  3,  0,  0],\n",
       "        [10,  4,  0,  0,  1]])]"
      ]
     },
     "execution_count": 68,
     "metadata": {},
     "output_type": "execute_result"
    }
   ],
   "source": [
    "ts"
   ]
  },
  {
   "cell_type": "code",
   "execution_count": 69,
   "metadata": {},
   "outputs": [
    {
     "name": "stderr",
     "output_type": "stream",
     "text": [
      "/Library/Frameworks/Python.framework/Versions/3.7/lib/python3.7/site-packages/netrd/utilities/threshold.py:42: RuntimeWarning: Setting 'cutoffs' argument is strongly encouraged. Using cutoff range of (-1, 1).\n",
      "  RuntimeWarning,\n"
     ]
    }
   ],
   "source": [
    "weights = {}\n",
    "graphs = {}\n",
    "n = 0\n",
    "for t in ts:\n",
    "    STE = netrd.reconstruction.NaiveTransferEntropy()\n",
    "    s = STE.fit(t)\n",
    "    weights[n] = [(i, s.edges[i]['weight']) for i in s.edges]\n",
    "    graphs[n] = s\n",
    "    n += 1"
   ]
  },
  {
   "cell_type": "code",
   "execution_count": 71,
   "metadata": {},
   "outputs": [],
   "source": [
    "for g in graphs:\n",
    "    a = dict(graphs[g].edges)\n",
    "    TS_0 = []\n",
    "    for (n, p) in a:\n",
    "        try:\n",
    "            TS_0.append(((n,p),a[(n,p)]['weight'] - a[(p,n)]['weight']))\n",
    "        except KeyError: \n",
    "            TS_0.append(((n,p), a[n,p]['weight']))\n",
    "    for i in TS_0:\n",
    "        a[i[0]]['norm_weight'] = i[1]"
   ]
  },
  {
   "cell_type": "code",
   "execution_count": 72,
   "metadata": {},
   "outputs": [],
   "source": [
    "heat = []\n",
    "for t in graphs:\n",
    "    h = [graphs[t].in_degree(n, weight = 'norm_weight') for n in graphs[t]]\n",
    "    heat.append(h)"
   ]
  },
  {
   "cell_type": "code",
   "execution_count": 73,
   "metadata": {},
   "outputs": [],
   "source": [
    "max_heat = max(list(itertools.chain.from_iterable(heat)))"
   ]
  },
  {
   "cell_type": "code",
   "execution_count": 74,
   "metadata": {},
   "outputs": [],
   "source": [
    "heat = [[n/max_heat for n in h] for h in heat]"
   ]
  },
  {
   "cell_type": "code",
   "execution_count": 75,
   "metadata": {},
   "outputs": [],
   "source": [
    "heat_np = np.array(heat)\n",
    "heat_np = np.transpose(heat_np)"
   ]
  },
  {
   "cell_type": "code",
   "execution_count": 76,
   "metadata": {},
   "outputs": [],
   "source": [
    "label_dates = list(time_ser_df.index[arr_split].strftime('%Y-%m-%d'))"
   ]
  },
  {
   "cell_type": "code",
   "execution_count": 106,
   "metadata": {},
   "outputs": [
    {
     "data": {
      "image/png": "[encoded data removed]",
      "text/plain": [
       "<Figure size 504x360 with 2 Axes>"
      ]
     },
     "metadata": {},
     "output_type": "display_data"
    }
   ],
   "source": [
    "fig = plt.figure(figsize = (7, 5))\n",
    "seaborn.set_style({'axes.facecolor': '#f1f2f4','figure.facecolor': '#f1f2f4'})\n",
    "seaborn.heatmap(heat_np, xticklabels = label_dates, yticklabels = top_tags)\n",
    "plt.ylabel('Hashtag')\n",
    "plt.xlabel('Date')\n",
    "plt.savefig('corrected_STE_correct_color.png', facecolor=fig.get_facecolor(), edgecolor='none', \n",
    "            bbox_inches = 'tight', dpi=1200)"
   ]
  },
  {
   "cell_type": "code",
   "execution_count": 82,
   "metadata": {},
   "outputs": [
    {
     "data": {
      "text/plain": [
       "[<matplotlib.lines.Line2D at 0x123735828>,\n",
       " <matplotlib.lines.Line2D at 0x1237359b0>,\n",
       " <matplotlib.lines.Line2D at 0x123735b38>,\n",
       " <matplotlib.lines.Line2D at 0x123735cc0>,\n",
       " <matplotlib.lines.Line2D at 0x123735e48>,\n",
       " <matplotlib.lines.Line2D at 0x123735fd0>,\n",
       " <matplotlib.lines.Line2D at 0x12373d198>,\n",
       " <matplotlib.lines.Line2D at 0x12373d320>,\n",
       " <matplotlib.lines.Line2D at 0x12373d4a8>]"
      ]
     },
     "execution_count": 82,
     "metadata": {},
     "output_type": "execute_result"
    },
    {
     "data": {
      "image/png": "[encoded data removed]",
      "text/plain": [
       "<Figure size 432x288 with 1 Axes>"
      ]
     },
     "metadata": {},
     "output_type": "display_data"
    }
   ],
   "source": [
    "plt.plot(heat_np)"
   ]
  },
  {
   "cell_type": "code",
   "execution_count": 87,
   "metadata": {},
   "outputs": [],
   "source": [
    "time_series_48 = np.array(time_ser_list)"
   ]
  },
  {
   "cell_type": "markdown",
   "metadata": {},
   "source": [
    "## 2nd Derivative"
   ]
  },
  {
   "cell_type": "code",
   "execution_count": 7,
   "metadata": {},
   "outputs": [],
   "source": [
    "park = make_dataframe('parkland','2018-02-13','2018-04-13')\n",
    "park_cum = cum_tags('parkland',park, 0.01)"
   ]
  },
  {
   "cell_type": "code",
   "execution_count": 8,
   "metadata": {},
   "outputs": [
    {
     "data": {
      "text/plain": [
       "True"
      ]
     },
     "execution_count": 8,
     "metadata": {},
     "output_type": "execute_result"
    }
   ],
   "source": [
    "park_cum['nra'] == park_cum['nra']"
   ]
  },
  {
   "cell_type": "code",
   "execution_count": 9,
   "metadata": {},
   "outputs": [
    {
     "data": {
      "text/plain": [
       "11910"
      ]
     },
     "execution_count": 9,
     "metadata": {},
     "output_type": "execute_result"
    }
   ],
   "source": [
    "len(park_cum['nra'][0])"
   ]
  },
  {
   "cell_type": "code",
   "execution_count": 10,
   "metadata": {},
   "outputs": [],
   "source": [
    "nra_cum_df = pd.DataFrame(data = {'nra_time': park_cum['nra'][0], 'nra': park_cum['nra'][1]})"
   ]
  },
  {
   "cell_type": "code",
   "execution_count": 11,
   "metadata": {},
   "outputs": [],
   "source": [
    "gun_cum_df = pd.DataFrame(data = {'gun_time': park_cum['guncontrol'][0], 'gun': park_cum['guncontrol'][1]})"
   ]
  },
  {
   "cell_type": "code",
   "execution_count": 12,
   "metadata": {},
   "outputs": [],
   "source": [
    "nra_cum_df = nra_cum_df.set_index('nra_time')"
   ]
  },
  {
   "cell_type": "code",
   "execution_count": 13,
   "metadata": {},
   "outputs": [],
   "source": [
    "gun_cum_df = gun_cum_df.set_index('gun_time')"
   ]
  },
  {
   "cell_type": "code",
   "execution_count": 24,
   "metadata": {},
   "outputs": [
    {
     "data": {
      "text/plain": [
       "488"
      ]
     },
     "execution_count": 24,
     "metadata": {},
     "output_type": "execute_result"
    }
   ],
   "source": [
    "park_cum['guncontrol'][0][8392]"
   ]
  },
  {
   "cell_type": "code",
   "execution_count": 43,
   "metadata": {},
   "outputs": [],
   "source": [
    "gun_first = np.gradient(park_cum['guncontrol'][0], 0.001)\n",
    "gun_second = np.gradient(gun_first, 0.001)"
   ]
  },
  {
   "cell_type": "code",
   "execution_count": 44,
   "metadata": {},
   "outputs": [
    {
     "data": {
      "text/plain": [
       "array([0., 0., 0., ..., 0., 0., 0.])"
      ]
     },
     "execution_count": 44,
     "metadata": {},
     "output_type": "execute_result"
    }
   ],
   "source": [
    "gun_first"
   ]
  },
  {
   "cell_type": "code",
   "execution_count": 45,
   "metadata": {},
   "outputs": [],
   "source": [
    "nra_first = np.gradient(park_cum['nra'][0],0.001)\n",
    "nra_second = np.gradient(nra_first,0.001)"
   ]
  },
  {
   "cell_type": "code",
   "execution_count": 46,
   "metadata": {},
   "outputs": [
    {
     "data": {
      "text/plain": [
       "[<matplotlib.lines.Line2D at 0x125f417f0>]"
      ]
     },
     "execution_count": 46,
     "metadata": {},
     "output_type": "execute_result"
    },
    {
     "data": {
      "image/png": "[encoded data removed]",
      "text/plain": [
       "<Figure size 432x288 with 1 Axes>"
      ]
     },
     "metadata": {
      "needs_background": "light"
     },
     "output_type": "display_data"
    }
   ],
   "source": [
    "plt.plot(park_cum['guncontrol'][0], park_cum['nra'][0])"
   ]
  },
  {
   "cell_type": "code",
   "execution_count": 47,
   "metadata": {},
   "outputs": [
    {
     "data": {
      "text/plain": [
       "[<matplotlib.lines.Line2D at 0x12691dc88>]"
      ]
     },
     "execution_count": 47,
     "metadata": {},
     "output_type": "execute_result"
    },
    {
     "data": {
      "image/png": "[encoded data removed]",
      "text/plain": [
       "<Figure size 432x288 with 1 Axes>"
      ]
     },
     "metadata": {
      "needs_background": "light"
     },
     "output_type": "display_data"
    }
   ],
   "source": [
    "plt.plot(park_cum['nra'][1], park_cum['nra'][0])\n",
    "plt.plot(park_cum['guncontrol'][1], park_cum['guncontrol'][0])"
   ]
  },
  {
   "cell_type": "code",
   "execution_count": 48,
   "metadata": {},
   "outputs": [
    {
     "data": {
      "text/plain": [
       "[<matplotlib.lines.Line2D at 0x126b90d30>]"
      ]
     },
     "execution_count": 48,
     "metadata": {},
     "output_type": "execute_result"
    },
    {
     "data": {
      "image/png": "[encoded data removed]",
      "text/plain": [
       "<Figure size 432x288 with 1 Axes>"
      ]
     },
     "metadata": {
      "needs_background": "light"
     },
     "output_type": "display_data"
    }
   ],
   "source": [
    "plt.plot(park_cum['nra'][1], nra_first)"
   ]
  },
  {
   "cell_type": "code",
   "execution_count": 49,
   "metadata": {},
   "outputs": [
    {
     "data": {
      "text/plain": [
       "[<matplotlib.lines.Line2D at 0x126c7e470>]"
      ]
     },
     "execution_count": 49,
     "metadata": {},
     "output_type": "execute_result"
    },
    {
     "data": {
      "image/png": "[encoded data removed]",
      "text/plain": [
       "<Figure size 432x288 with 1 Axes>"
      ]
     },
     "metadata": {
      "needs_background": "light"
     },
     "output_type": "display_data"
    }
   ],
   "source": [
    "plt.plot(gun_second, nra_second)"
   ]
  },
  {
   "cell_type": "code",
   "execution_count": 52,
   "metadata": {},
   "outputs": [],
   "source": [
    "d_gun = [(park_cum['guncontrol'][0][i] - park_cum['guncontrol'][0][i-10]/10) for i in \n",
    "         range(10, len(park_cum['guncontrol'][0]))]\n",
    "d_nra = [(park_cum['nra'][0][i] - park_cum['nra'][0][i-10]/10) for i in \n",
    "         range(10, len(park_cum['nra'][0]))]"
   ]
  },
  {
   "cell_type": "code",
   "execution_count": 53,
   "metadata": {},
   "outputs": [
    {
     "data": {
      "text/plain": [
       "[<matplotlib.lines.Line2D at 0x126e01e10>]"
      ]
     },
     "execution_count": 53,
     "metadata": {},
     "output_type": "execute_result"
    },
    {
     "data": {
      "image/png": "[encoded data removed]",
      "text/plain": [
       "<Figure size 432x288 with 1 Axes>"
      ]
     },
     "metadata": {
      "needs_background": "light"
     },
     "output_type": "display_data"
    }
   ],
   "source": [
    "plt.plot(d_gun, d_nra)"
   ]
  }
 ],
 "metadata": {
  "kernelspec": {
   "display_name": "Python 3",
   "language": "python",
   "name": "python3"
  },
  "language_info": {
   "codemirror_mode": {
    "name": "ipython",
    "version": 3
   },
   "file_extension": ".py",
   "mimetype": "text/x-python",
   "name": "python",
   "nbconvert_exporter": "python",
   "pygments_lexer": "ipython3",
   "version": "3.7.0"
  }
 },
 "nbformat": 4,
 "nbformat_minor": 2
}
